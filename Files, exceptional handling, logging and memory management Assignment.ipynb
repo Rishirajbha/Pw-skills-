{
 "cells": [
  {
   "cell_type": "markdown",
   "id": "8444c67a-b11d-483f-9c4d-e80b8a8a2797",
   "metadata": {},
   "source": [
    "### 1. What is the difference between interpreted and compiled languages?"
   ]
  },
  {
   "cell_type": "markdown",
   "id": "501517af-2d01-499b-aa02-cc918e339c4a",
   "metadata": {},
   "source": [
    "#### Compiled Languages: \n",
    "A compiler translates the entire program's source code into machine code (binary) before execution. This machine code is then executed directly by the computer's hardware.\n",
    "Example compilers: GCC, Clang, etc.\n",
    "\n",
    "\n",
    "#### interpreted Languages:\n",
    "An interpreter reads and executes the source code line by line or in real-time, without converting it into a separate machine code binary beforehand.\n",
    "\n",
    "\n",
    "\n"
   ]
  },
  {
   "cell_type": "markdown",
   "id": "ce6fde53-7349-4d41-8597-fe118d1b283b",
   "metadata": {},
   "source": [
    "### 2. What is exception handling in Python?"
   ]
  },
  {
   "cell_type": "markdown",
   "id": "b567d2ca-f73a-43b9-890a-d945b4b437b6",
   "metadata": {},
   "source": [
    "Exception handling in Python is a mechanism to handle runtime errors or \"exceptions\" in a program, ensuring that the program can continue to execute or gracefully terminate without crashing unexpectedly. It involves using specific constructs to \"catch\" and respond to errors that might otherwise halt program execution."
   ]
  },
  {
   "cell_type": "markdown",
   "id": "810e7481-e2c4-4739-bc75-0cd327725b3a",
   "metadata": {},
   "source": [
    "### 3. What is the purpose of the finally block in exception handling?"
   ]
  },
  {
   "cell_type": "markdown",
   "id": "30ae6948-c909-4e69-9dc1-00f689685a66",
   "metadata": {},
   "source": [
    "The finally block in Python is used in exception handling to ensure that certain code is always executed, regardless of whether an exception occurred or not. It is often used for cleanup actions, such as closing files, releasing resources, or resetting states."
   ]
  },
  {
   "cell_type": "markdown",
   "id": "87cf0521-4f9b-469d-977f-551bb41b8a1b",
   "metadata": {},
   "source": [
    "### 4.  What is logging in Python?"
   ]
  },
  {
   "cell_type": "markdown",
   "id": "9e104def-46b0-4ce2-9679-dfc54b360d8d",
   "metadata": {},
   "source": [
    "Logging in Python is a built-in module that allows you to record messages during the execution of a program. These messages can provide information about the program's execution flow, help debug issues, or record significant events for future analysis."
   ]
  },
  {
   "cell_type": "markdown",
   "id": "b9cd1bbb-a1a6-452a-9150-f3f333f0bb8f",
   "metadata": {},
   "source": [
    "### 5. What is the significance of the __del__ method in Python"
   ]
  },
  {
   "cell_type": "markdown",
   "id": "387c80c1-39f0-4ba0-b6ca-b83cd9de33f1",
   "metadata": {},
   "source": [
    "The __del__ method in Python is a special method, also known as the destructor, which is called when an object is about to be destroyed or garbage-collected. It allows you to define custom behavior for cleanup operations, such as releasing resources or closing connections, when an object is no longer needed."
   ]
  },
  {
   "cell_type": "markdown",
   "id": "adcbd100-77df-47c0-9fb7-4e2834877a6c",
   "metadata": {},
   "source": [
    "### 6. What is the difference between import and from ... import in Python"
   ]
  },
  {
   "cell_type": "markdown",
   "id": "495af4e7-efc7-4c20-b6af-bf37a1540523",
   "metadata": {},
   "source": [
    "In Python, both import and from ... import are used to bring external modules or specific components of a module into the current namespace. The choice between the two depends on the use case and the level of granularity required when accessing module contents."
   ]
  },
  {
   "cell_type": "markdown",
   "id": "ba9391e1-b293-4fd1-9068-f446d7a3f2f7",
   "metadata": {},
   "source": [
    "### 7. How can you handle multiple exceptions in Python"
   ]
  },
  {
   "cell_type": "markdown",
   "id": "bd2a92cc-b868-42f0-902e-22c6cf86c594",
   "metadata": {},
   "source": [
    "In Python, you can handle multiple exceptions in a try-except block in several ways, depending on the requirements of your code. Below are the most common methods:\n",
    "\n",
    "\n"
   ]
  },
  {
   "cell_type": "markdown",
   "id": "1f242acc-73e8-4bf9-8b14-41c7e1128b94",
   "metadata": {},
   "source": [
    "### 8. What is the purpose of the with statement when handling files in Python"
   ]
  },
  {
   "cell_type": "markdown",
   "id": "3d435eb0-9de1-4fe2-a600-23759afa9b15",
   "metadata": {},
   "source": [
    "In Python, you can handle multiple exceptions in a try-except block in several ways, depending on the requirements of your code. Below are the most common methods:\n",
    "1. Handling Different Exceptions with Separate except Blocks\n",
    "2. Handling Multiple Exceptions in a Single except Block\n",
    "3. Catching All Exceptions with a Generic except Block\n",
    "4. Combining Specific and Generic except Blocks\n",
    "5. Using an else Block\n",
    "6. Using a finally Block\n",
    "7. The finally block is executed rega\n",
    "8. Raising Exceptions After Handling"
   ]
  },
  {
   "cell_type": "markdown",
   "id": "4f248d46-596a-4a42-9319-a1afe8907299",
   "metadata": {},
   "source": [
    "### 9.  What is the difference between multithreading and multiprocessing"
   ]
  },
  {
   "cell_type": "markdown",
   "id": "09252629-39e3-43ee-8648-9ec3c03427d1",
   "metadata": {},
   "source": [
    "Multithreading: \n",
    "Involves running multiple threads (smaller units of a process) within the same process. Threads share the same memory space.\n",
    "\n",
    "Multiprocessing:\n",
    "Involves running multiple processes, each with its own Python interpreter and memory space. Processes are independent of each other."
   ]
  },
  {
   "cell_type": "markdown",
   "id": "87f4945f-5a1d-4638-ad45-ba32546ec3c2",
   "metadata": {},
   "source": [
    "### 10.  What are the advantages of using logging in a program"
   ]
  },
  {
   "cell_type": "markdown",
   "id": "9aa1d0c6-ce7c-4fcd-bb6c-a67b85b2d977",
   "metadata": {},
   "source": [
    "Advantages are:\n",
    "1. Debugging and Error Diagnosis\n",
    "2. Real-Time Monitoring\n",
    "3. Persisting Application Activity\n",
    "4. Simplifies Debugging in Distributed Systems\n",
    "5. Customizable Levels of Information\n",
    "6. Non-Intrusive Debugging"
   ]
  },
  {
   "cell_type": "markdown",
   "id": "c462ffba-5fc6-42ed-a583-46938b478b55",
   "metadata": {},
   "source": [
    "### 11. What is memory management in Python?"
   ]
  },
  {
   "cell_type": "markdown",
   "id": "ee467980-7f15-4bcd-a5b8-327f79e40f73",
   "metadata": {},
   "source": [
    "Memory management in Python involves automatic allocation and deallocation of memory through reference counting and garbage collection. Python uses a memory manager to allocate memory for objects, and objects are deallocated when their reference count reaches zero. The garbage collector handles cyclic references and ensures unused memory is freed. Python’s memory pools (PyMalloc) optimize memory usage for small objects. While this system simplifies development, it can have overhead, especially in large applications with complex data structures.\n",
    "\n",
    "\n",
    "\n",
    "\n"
   ]
  },
  {
   "cell_type": "markdown",
   "id": "59f7ce0d-c3fe-4a75-980c-4460f4921d71",
   "metadata": {},
   "source": [
    "### 12. What are the basic steps involved in exception handling in Python"
   ]
  },
  {
   "cell_type": "markdown",
   "id": "8e77b323-f351-49f7-a694-de9ea99a4614",
   "metadata": {},
   "source": [
    "The basic steps involved in exception handling in Python are as follows:\n",
    "\n",
    "1. Try Block\n",
    "2. Except Block\n",
    "3. Else Block \n",
    "4. Finally Block \n",
    "\n"
   ]
  },
  {
   "cell_type": "markdown",
   "id": "ba685519-ada4-4f15-9870-79c10b589ff8",
   "metadata": {},
   "source": [
    "### 14.  Why is memory management important in Python"
   ]
  },
  {
   "cell_type": "markdown",
   "id": "f14f45e2-bb41-4dc5-b0ac-dc23ac889fc0",
   "metadata": {},
   "source": [
    "Importance of Memory Management in Python is:\n",
    "1. Efficient Resource Use\n",
    "2. Avoiding Memory Leaks\n",
    "3. Performance Optimization\n",
    "4. Automatic Garbage Collection\n",
    "5. Reliability and Stability\n",
    "6. Better Scalability\n",
    "   "
   ]
  },
  {
   "cell_type": "markdown",
   "id": "90923064-43c3-4d47-ac2a-db79e5b9a199",
   "metadata": {},
   "source": [
    "### 15 What is the role of try and except in exception handling"
   ]
  },
  {
   "cell_type": "markdown",
   "id": "b7a9d6b7-c392-43b0-9963-725714c3c1cd",
   "metadata": {},
   "source": [
    "Try block: The try block contains the code that may potentially raise an exception.\n",
    "\n",
    "Exception block: The except block defines how to handle the exception raised in the try block."
   ]
  },
  {
   "cell_type": "markdown",
   "id": "76156040-4101-421a-b2ab-e33ce1fdcb20",
   "metadata": {},
   "source": [
    "### 16 How does Python's garbage collection system work"
   ]
  },
  {
   "cell_type": "markdown",
   "id": "c1a86164-1fce-4216-bac6-fe8346b62dac",
   "metadata": {},
   "source": [
    "Python's garbage collection (GC) system is responsible for automatically managing memory by reclaiming unused or inaccessible objects, thereby preventing memory leaks. Here’s an overview of how Python’s GC works:\n",
    "\n",
    "1. Reference Counting\n",
    "2. Handling Cyclic References\n",
    "3. Cyclic Garbage Collection\n",
    "4. Manual Interaction with Garbage Collection\n",
    "5. Performance Considerations\n",
    "   "
   ]
  },
  {
   "cell_type": "markdown",
   "id": "0a343b8b-9ae4-4ce1-a139-f73697d77bd0",
   "metadata": {},
   "source": [
    "### 17  What is the purpose of the else block in exception handling"
   ]
  },
  {
   "cell_type": "markdown",
   "id": "496c24ec-69eb-44bf-8e9c-f5d222b63e6a",
   "metadata": {},
   "source": [
    "The purpose of the else block in Python’s exception handling is to define a block of code that should run only if no exceptions are raised in the try block. It provides a way to separate error-free operations from the ones that handle exceptions, improving the clarity and readability of the code."
   ]
  },
  {
   "cell_type": "markdown",
   "id": "f5dcaabf-75e5-4da8-b3fa-0e1ba18cd7fa",
   "metadata": {},
   "source": [
    "### 18.What are the common logging levels in Python"
   ]
  },
  {
   "cell_type": "markdown",
   "id": "8dc1426d-1e48-4fa8-a0fd-83b25e07a857",
   "metadata": {},
   "source": [
    "Here are the common logging levels in Python:-\n",
    "1.DEBUG\n",
    "2.INFO\n",
    "3.WARNING \n",
    "4.ERROR\n",
    "5.CRITICAL"
   ]
  },
  {
   "cell_type": "markdown",
   "id": "715abe3a-df46-4866-b6f9-dcbdfd5e1843",
   "metadata": {},
   "source": [
    "### 19 What is the difference between os.fork() and multiprocessing in Python"
   ]
  },
  {
   "cell_type": "markdown",
   "id": "c35c2900-30a1-4ddd-842d-852fdfd1e973",
   "metadata": {},
   "source": [
    "os.fork() and the multiprocessing module in Python are both used to create new processes, but they differ significantly in how they operate and their use cases:-\n",
    "\n",
    "os.fork():-\n",
    "os.fork() is a low-level system call available on Unix-like operating systems. It creates a new process (child process) by duplicating the calling process (parent process).\n",
    "\n",
    "multiprocessing:-\n",
    "A high-level module in Python’s standard library for creating and managing processes. It abstracts away the details of os.fork() and provides an interface similar to threading but with separate processes.\n",
    "\n"
   ]
  },
  {
   "cell_type": "markdown",
   "id": "6096cae9-f752-4477-875f-144e15cee07d",
   "metadata": {},
   "source": [
    "### 20 What is the importance of closing a file in Python?"
   ]
  },
  {
   "cell_type": "markdown",
   "id": "65354005-5e6d-46a8-b856-47156940863c",
   "metadata": {},
   "source": [
    "In Python, closing a file means terminating the connection between the file and the program, ensuring that all associated system resources are released, buffered data is written to the file, and the file is safely available for other operations.\n",
    "\n",
    "This is achieved using the close() method or automatically with the with statement (context manager)."
   ]
  },
  {
   "cell_type": "markdown",
   "id": "4a446f0f-79c5-44dc-9e10-9e0e1f8cd1bb",
   "metadata": {},
   "source": [
    "### 21  What is the difference between file.read() and file.readline() in Python"
   ]
  },
  {
   "cell_type": "markdown",
   "id": "0479da95-2e58-4759-aa73-56be215d3e5f",
   "metadata": {},
   "source": [
    "Use file.read() when you need the entire file content or a specific number of characters.\n",
    "\n",
    "\n",
    "Use file.readline() when you need to process a file line by line."
   ]
  },
  {
   "cell_type": "markdown",
   "id": "8a1c25c0-d713-4ada-b9ac-2e15460fe441",
   "metadata": {},
   "source": [
    "### 22  What is the logging module in Python used for"
   ]
  },
  {
   "cell_type": "markdown",
   "id": "7e124b0d-2f27-43e4-af12-a56c7eabc3d5",
   "metadata": {},
   "source": [
    "The logging module in Python is used for tracking events that occur during the execution of a program. It provides a flexible and standardized way to log messages, which can help with debugging, monitoring, and analyzing the behavior of a program."
   ]
  },
  {
   "cell_type": "markdown",
   "id": "1717d18c-93ee-43b4-a8ec-910639550644",
   "metadata": {},
   "source": [
    "### 23 What is the os module in Python used for in file handling"
   ]
  },
  {
   "cell_type": "markdown",
   "id": "2798defe-39ee-4589-8171-1db9abea05dc",
   "metadata": {},
   "source": [
    "The os module in Python provides a way to interact with the operating system. It includes functions for managing files, directories, and system-level tasks, making it especially useful for file handling operations."
   ]
  },
  {
   "cell_type": "markdown",
   "id": "2bec7955-df5e-449b-8447-1e9e2067310f",
   "metadata": {},
   "source": [
    "### 24  What are the challenges associated with memory management in Python"
   ]
  },
  {
   "cell_type": "markdown",
   "id": "a447ad16-2ddb-4625-bc92-dc853a7fceab",
   "metadata": {},
   "source": [
    "Memory management in Python is largely automated through garbage collection and dynamic memory allocation. However, there are still challenges and considerations developers face when managing memory efficiently. "
   ]
  },
  {
   "cell_type": "markdown",
   "id": "366e72bd-f9bd-4ab3-8966-d2055314a8d3",
   "metadata": {},
   "source": [
    "### 25  How do you raise an exception manually in Python"
   ]
  },
  {
   "cell_type": "markdown",
   "id": "61c02b74-cf2f-4e4a-944e-b5facf59f53f",
   "metadata": {},
   "source": [
    "In Python, you can raise an exception manually using the raise keyword. This allows you to trigger an exception deliberately, either with built-in exception types or custom exceptions."
   ]
  },
  {
   "cell_type": "markdown",
   "id": "1fc8279b-f994-446a-9d0b-1b254cc0c847",
   "metadata": {},
   "source": [
    "### 26 Why is it important to use multithreading in certain applications"
   ]
  },
  {
   "cell_type": "markdown",
   "id": "5e5c92cc-1696-4760-a48c-e1ceb70ccdad",
   "metadata": {},
   "source": [
    "Multithreading is crucial for improving application responsiveness, handling I/O-bound tasks, and managing multiple concurrent operations efficiently. While Python's GIL limits its usefulness for CPU-bound tasks, multithreading excels in I/O-heavy or real-time applications where waiting can be minimized."
   ]
  },
  {
   "cell_type": "markdown",
   "id": "15a2a8f6-7575-45ae-80f4-ec8f79e3494b",
   "metadata": {},
   "source": [
    "## Practical Questions"
   ]
  },
  {
   "cell_type": "markdown",
   "id": "ec291c43-eaf2-42bb-9c23-f3ac09cba12f",
   "metadata": {},
   "source": [
    "### 1.  How can you open a file for writing in Python and write a string to it"
   ]
  },
  {
   "cell_type": "code",
   "execution_count": null,
   "id": "9b1ce225-9e62-4750-97f4-323bf20f33bf",
   "metadata": {},
   "outputs": [],
   "source": [
    "file = open(\"filename.txt\", \"w\")\n",
    "file.write(\"Your string here\")\n",
    "file.close()"
   ]
  },
  {
   "cell_type": "markdown",
   "id": "f8166cd4-ee52-471d-b246-01e49de5eabb",
   "metadata": {},
   "source": [
    "### 2. Write a Python program to read the contents of a file and print each line"
   ]
  },
  {
   "cell_type": "code",
   "execution_count": null,
   "id": "44820c97-344b-43dd-a92d-f51bfe16121f",
   "metadata": {},
   "outputs": [],
   "source": [
    "with open(\"example.txt\", \"r\") as file:\n",
    "    # Loop through each line in the file\n",
    "    for line in file:\n",
    "        print(line.strip()) "
   ]
  },
  {
   "cell_type": "markdown",
   "id": "54021e51-09c7-4661-9f17-b4dab2b858b6",
   "metadata": {},
   "source": [
    "### 3. How would you handle a case where the file doesn't exist while trying to open it for reading"
   ]
  },
  {
   "cell_type": "code",
   "execution_count": null,
   "id": "10604801-7bca-4fd8-bf7f-37133710e4a9",
   "metadata": {},
   "outputs": [],
   "source": [
    "import os\n",
    "\n",
    "filename = \"example.txt\"\n",
    "\n",
    "if os.path.exists(filename):  # checking File Existence Before Opening\n",
    "    with open(filename, \"r\") as file:\n",
    "        for line in file:\n",
    "            print(line.strip())\n",
    "else:\n",
    "    print(f\"Error: The file '{filename}' does not exist.\")\n"
   ]
  },
  {
   "cell_type": "markdown",
   "id": "935b1a61-399c-4b12-a149-96561ff96b78",
   "metadata": {},
   "source": [
    "### 4.  Write a Python script that reads from one file and writes its content to another file"
   ]
  },
  {
   "cell_type": "code",
   "execution_count": null,
   "id": "74f8547d-2ccd-4f2d-bbb8-fbcce23539ee",
   "metadata": {},
   "outputs": [],
   "source": [
    "# Open the source file in read mode and destination file in write mode\n",
    "with open(source_file, \"r\") as src, open(destination_file, \"w\") as dest:\n",
    "    # Read and write line by line\n",
    "    for line in src:\n",
    "        dest.write(line)\n"
   ]
  },
  {
   "cell_type": "markdown",
   "id": "6686ad6d-ea9d-4413-ad8b-17043e16f318",
   "metadata": {},
   "source": [
    "### 5 How would you catch and handle division by zero error in Python"
   ]
  },
  {
   "cell_type": "code",
   "execution_count": 59,
   "id": "7695a0bb-ce72-4f47-9555-4d57b02b0faf",
   "metadata": {},
   "outputs": [
    {
     "name": "stdout",
     "output_type": "stream",
     "text": [
      "Error: division by zero. Cannot divide by zero!\n"
     ]
    }
   ],
   "source": [
    "\n",
    "numerator=10\n",
    "denominator=0\n",
    "\n",
    "try:\n",
    "    result = numerator / denominator\n",
    "except ZeroDivisionError as e:\n",
    "    print(f\"Error: {e}. Cannot divide by zero!\")\n",
    "else:\n",
    "    print(f\"The result is: {result}\")\n"
   ]
  },
  {
   "cell_type": "markdown",
   "id": "64acfb0a-b041-4cf6-b1c5-a34a2ba445ff",
   "metadata": {},
   "source": [
    "### 6 Write a Python program that logs an error message to a log file when a division by zero exception occurs"
   ]
  },
  {
   "cell_type": "code",
   "execution_count": 69,
   "id": "3e748bde-a0fa-4fdd-8ef1-6c015874c260",
   "metadata": {},
   "outputs": [
    {
     "name": "stdout",
     "output_type": "stream",
     "text": [
      "Error: Cannot divide by zero.\n",
      "Division failed.\n"
     ]
    }
   ],
   "source": [
    "import logging\n",
    "\n",
    "# Set up logging to a file\n",
    "logging.basicConfig(filename='error_log.txt', level=logging.ERROR, \n",
    "                    format='%(asctime)s - %(levelname)s - %(message)s')\n",
    "\n",
    "# Function to perform division\n",
    "def divide(numerator, denominator):\n",
    "    try:\n",
    "        result = numerator / denominator\n",
    "        return result\n",
    "    except ZeroDivisionError as e:\n",
    "        # Log the error message when division by zero occurs\n",
    "        logging.error(f\"Division by zero error: {e}\")\n",
    "        print(\"Error: Cannot divide by zero.\")\n",
    "        return None\n",
    "\n",
    "# Example usage\n",
    "numerator = 10\n",
    "denominator = 0  # Change this value to test different scenarios\n",
    "\n",
    "result = divide(numerator, denominator)\n",
    "if result is not None:\n",
    "    print(f\"The result is: {result}\")\n",
    "else:\n",
    "    print(\"Division failed.\")\n"
   ]
  },
  {
   "cell_type": "markdown",
   "id": "822f1529-9aad-4401-8289-50673a852ac8",
   "metadata": {},
   "source": [
    "### 7 How do you log information at different levels (INFO, ERROR, WARNING) in Python using the logging module"
   ]
  },
  {
   "cell_type": "code",
   "execution_count": 71,
   "id": "d8fd4914-4290-42f1-9381-a76712de7df3",
   "metadata": {},
   "outputs": [],
   "source": [
    "import logging\n",
    "\n",
    "# Configure the logging system\n",
    "logging.basicConfig(\n",
    "    level=logging.DEBUG,  # Set the root logger to handle messages from DEBUG and above\n",
    "    format='%(asctime)s - %(levelname)s - %(message)s',\n",
    "    handlers=[logging.StreamHandler()]  # Logs will be output to the console\n",
    ")\n",
    "\n",
    "# Logging at different levels\n",
    "def log_messages():\n",
    "    logging.debug(\"This is a DEBUG message.\")\n",
    "    logging.info(\"This is an INFO message.\")\n",
    "    logging.warning(\"This is a WARNING message.\")\n",
    "    logging.error(\"This is an ERROR message.\")\n",
    "    logging.critical(\"This is a CRITICAL message.\")\n",
    "\n",
    "# Call the function to log the messages\n",
    "log_messages()\n"
   ]
  },
  {
   "cell_type": "markdown",
   "id": "81f427fb-2cd2-4c11-ad68-c1c9792afd16",
   "metadata": {},
   "source": [
    "### 8 Write a program to handle a file opening error using exception handling"
   ]
  },
  {
   "cell_type": "code",
   "execution_count": 73,
   "id": "0ca85f61-1607-4f0e-a8fe-142418813151",
   "metadata": {},
   "outputs": [
    {
     "name": "stdout",
     "output_type": "stream",
     "text": [
      "Error: The file does not exist.\n",
      "Execution completed.\n"
     ]
    }
   ],
   "source": [
    "try:\n",
    "    # Attempting to open a file that may not exist or cannot be accessed\n",
    "    file = open('non_existent_file.txt', 'r')\n",
    "    # Read the content of the file\n",
    "    content = file.read()\n",
    "    print(content)\n",
    "except FileNotFoundError:\n",
    "    # Handle the case where the file is not found\n",
    "    print(\"Error: The file does not exist.\")\n",
    "except PermissionError:\n",
    "    # Handle the case where there is a permission issue\n",
    "    print(\"Error: You do not have permission to open this file.\")\n",
    "except Exception as e:\n",
    "    # Catch any other exceptions and print the error message\n",
    "    print(f\"An unexpected error occurred: {e}\")\n",
    "else:\n",
    "    # This block runs if no exceptions occur\n",
    "    print(\"File opened and read successfully.\")\n",
    "    file.close()\n",
    "finally:\n",
    "    # This block will run no matter what, even if an exception occurs\n",
    "    print(\"Execution completed.\")\n"
   ]
  },
  {
   "cell_type": "markdown",
   "id": "fd531ed9-2e67-468e-bb51-aa96c17396f8",
   "metadata": {},
   "source": [
    "### 9  How can you read a file line by line and store its content in a list in Python"
   ]
  },
  {
   "cell_type": "code",
   "execution_count": 79,
   "id": "f0015ea2-75a7-4d8b-a871-89e98d36e2f3",
   "metadata": {},
   "outputs": [
    {
     "name": "stdout",
     "output_type": "stream",
     "text": [
      "['This is a newly created text file.', 'You can write multiple lines to it.']\n"
     ]
    }
   ],
   "source": [
    "# Open the file for reading\n",
    "# write line\n",
    "with open('example.txt', 'w') as file:\n",
    "    file.write(\"This is a newly created text file.\\n\")\n",
    "    file.write(\"You can write multiple lines to it.\\n\")\n",
    " #Read file   \n",
    "with open('example.txt', 'r') as file:\n",
    "    # Read all lines and store them in a list\n",
    "    lines = file.readlines()\n",
    "\n",
    "# Strip newline characters and store the cleaned lines in a new list\n",
    "lines = [line.strip() for line in lines]\n",
    "\n",
    "# Print the content stored in the list\n",
    "print(lines)\n"
   ]
  },
  {
   "cell_type": "markdown",
   "id": "077b1852-017f-47a7-91a5-a5431532a57f",
   "metadata": {},
   "source": [
    "### 10 How can you append data to an existing file in Python"
   ]
  },
  {
   "cell_type": "code",
   "execution_count": 85,
   "id": "8892cc7e-9665-4593-a59f-24a97c7be912",
   "metadata": {},
   "outputs": [
    {
     "name": "stdout",
     "output_type": "stream",
     "text": [
      "This is a newly created text file.\n",
      "You can write multiple lines to it.\n",
      "Appended line 1.\n",
      "Appended line 2.\n",
      "Appended line 1.\n",
      "Appended line 2.\n",
      "Appended line 1.\n",
      "Appended line 2.\n",
      "\n"
     ]
    }
   ],
   "source": [
    "with open('example.txt', 'a') as file:\n",
    "    file.write('Appended line 1.\\n')\n",
    "    file.write('Appended line 2.\\n')\n",
    "\n",
    "# Read the content of the file\n",
    "with open('example.txt', 'r') as file:\n",
    "    content = file.read()\n",
    "\n",
    "print(content)"
   ]
  },
  {
   "cell_type": "markdown",
   "id": "0dc3297b-5a3d-4bd9-bd63-7a7945638fe8",
   "metadata": {},
   "source": [
    "### 11 Write a Python program that uses a try-except block to handle an error when attempting to access a dictionary key that doesn't exist"
   ]
  },
  {
   "cell_type": "code",
   "execution_count": 87,
   "id": "131b9c31-e6ce-489f-9f5b-3f0be925c837",
   "metadata": {},
   "outputs": [
    {
     "name": "stdout",
     "output_type": "stream",
     "text": [
      "Error: The key 'address' does not exist in the dictionary.\n"
     ]
    }
   ],
   "source": [
    "\n",
    "my_dict = {'name': 'Alice', 'age': 25}\n",
    "\n",
    "key_to_access = 'address'\n",
    "\n",
    "try:\n",
    "    # Attempt to access the key in the dictionary\n",
    "    value = my_dict[key_to_access]\n",
    "    print(f\"The value for '{key_to_access}' is {value}\")\n",
    "except KeyError:\n",
    "    # Handle the case where the key doesn't exist\n",
    "    print(f\"Error: The key '{key_to_access}' does not exist in the dictionary.\")\n"
   ]
  },
  {
   "cell_type": "markdown",
   "id": "0feec9ca-9615-475f-b8ff-1f8c5344c985",
   "metadata": {},
   "source": [
    "### 12  Write a program that demonstrates using multiple except blocks to handle different types of exceptions"
   ]
  },
  {
   "cell_type": "code",
   "execution_count": 91,
   "id": "1b5b9c70-4ee0-42da-9710-c265908806ee",
   "metadata": {},
   "outputs": [
    {
     "name": "stdin",
     "output_type": "stream",
     "text": [
      "Enter the first number:  45\n",
      "Enter the second number:  56\n"
     ]
    },
    {
     "name": "stdout",
     "output_type": "stream",
     "text": [
      "The result of 45 divided by 56 is 0.8035714285714286\n",
      "Error: List index out of range!\n"
     ]
    }
   ],
   "source": [
    "try:\n",
    "    # Prompting the user for two numbers\n",
    "    num1 = int(input(\"Enter the first number: \"))\n",
    "    num2 = int(input(\"Enter the second number: \"))\n",
    "    \n",
    "    # Performing arithmetic operations\n",
    "    result = num1 / num2\n",
    "    print(f\"The result of {num1} divided by {num2} is {result}\")\n",
    "    \n",
    "    my_list = [1, 2, 3]\n",
    "    print(my_list[5])  \n",
    "\n",
    "except ZeroDivisionError:\n",
    "    print(\"Error: You cannot divide by zero!\")\n",
    "\n",
    "except ValueError:\n",
    "    print(\"Error: Invalid input! Please enter numeric values.\")\n",
    "\n",
    "except IndexError:\n",
    "    print(\"Error: List index out of range!\")\n",
    "\n",
    "except Exception as e:\n",
    "    print(f\"An unexpected error occurred: {e}\")\n"
   ]
  },
  {
   "cell_type": "markdown",
   "id": "0256ab3c-d321-4300-9cf4-03291e2c980f",
   "metadata": {},
   "source": [
    "### 13  How would you check if a file exists before attempting to read it in Python"
   ]
  },
  {
   "cell_type": "code",
   "execution_count": 93,
   "id": "cd0eb0dc-f326-4749-8650-52f76d3addea",
   "metadata": {},
   "outputs": [
    {
     "name": "stdout",
     "output_type": "stream",
     "text": [
      "This is a newly created text file.\n",
      "You can write multiple lines to it.\n",
      "Appended line 1.\n",
      "Appended line 2.\n",
      "Appended line 1.\n",
      "Appended line 2.\n",
      "Appended line 1.\n",
      "Appended line 2.\n",
      "\n"
     ]
    }
   ],
   "source": [
    "from pathlib import Path\n",
    "\n",
    "file_path = Path('example.txt')\n",
    "\n",
    "# Check if the file exists\n",
    "if file_path.exists():\n",
    "    with open(file_path, 'r') as file:\n",
    "        content = file.read()\n",
    "        print(content)\n",
    "else:\n",
    "    print(f\"The file '{file_path}' does not exist.\")\n"
   ]
  },
  {
   "cell_type": "markdown",
   "id": "fb6b3ffb-a5e2-43dc-9e8f-bd6fe4fb1a9b",
   "metadata": {},
   "source": [
    "### 14  Write a program that uses the logging module to log both informational and error messages"
   ]
  },
  {
   "cell_type": "code",
   "execution_count": 97,
   "id": "e3da9da8-a8cc-4120-b098-a424969bd8e2",
   "metadata": {},
   "outputs": [],
   "source": [
    "import logging\n",
    "\n",
    "\n",
    "logging.basicConfig(\n",
    "    level=logging.DEBUG, \n",
    "    format='%(asctime)s - %(levelname)s - %(message)s'\n",
    ")\n",
    "\n",
    "# Log an informational message\n",
    "logging.info(\"This is an informational message.\")\n",
    "\n",
    "# Log an error message\n",
    "try:\n",
    "    x = 5 / 0  # Division by zero error\n",
    "except ZeroDivisionError as e:\n",
    "    logging.error(f\"Error occurred: {e}\")\n"
   ]
  },
  {
   "cell_type": "markdown",
   "id": "e8e5d813-cf38-4308-8def-ef58b340e385",
   "metadata": {},
   "source": [
    "### 15 Write a Python program that prints the content of a file and handles the case when the file is empty"
   ]
  },
  {
   "cell_type": "code",
   "execution_count": 99,
   "id": "fbad4366-e9d9-4cda-86d8-df121442840f",
   "metadata": {},
   "outputs": [
    {
     "name": "stdout",
     "output_type": "stream",
     "text": [
      "File content:\n",
      "This is a newly created text file.\n",
      "You can write multiple lines to it.\n",
      "Appended line 1.\n",
      "Appended line 2.\n",
      "Appended line 1.\n",
      "Appended line 2.\n",
      "Appended line 1.\n",
      "Appended line 2.\n",
      "\n"
     ]
    }
   ],
   "source": [
    "def read_file(file_path):\n",
    "    try:\n",
    "        with open(file_path, 'r') as file:\n",
    "            content = file.read()\n",
    "            \n",
    "            if not content:\n",
    "                print(\"The file is empty.\")\n",
    "            else:\n",
    "                print(\"File content:\")\n",
    "                print(content)\n",
    "    \n",
    "    except FileNotFoundError:\n",
    "        print(f\"Error: The file '{file_path}' does not exist.\")\n",
    "    except Exception as e:\n",
    "        print(f\"An unexpected error occurred: {e}\")\n",
    "\n",
    "# Specify the file path\n",
    "file_path = 'example.txt'\n",
    "\n",
    "# Call the function to read the file\n",
    "read_file(file_path)\n"
   ]
  },
  {
   "cell_type": "markdown",
   "id": "72039802-ec6c-4d6a-b340-49086faab4bf",
   "metadata": {},
   "source": [
    "### 16  Demonstrate how to use memory profiling to check the memory usage of a small program"
   ]
  },
  {
   "cell_type": "code",
   "execution_count": 139,
   "id": "159153f8-f296-493c-b317-f9fbd736d5dc",
   "metadata": {},
   "outputs": [
    {
     "name": "stdout",
     "output_type": "stream",
     "text": [
      "Current memory usage: 0.000986 MB\n",
      "Peak memory usage: 0.019165 MB\n"
     ]
    }
   ],
   "source": [
    "import tracemalloc\n",
    "\n",
    "# Function to track memory usage\n",
    "def my_function():\n",
    "    a = [i for i in range(10000)]  \n",
    "    b = {i: i * 2 for i in range(10000)} \n",
    "    del b \n",
    "    return a\n",
    "\n",
    "# Start tracing memory allocations\n",
    "tracemalloc.start()\n",
    "\n",
    "# Get the current memory usage\n",
    "current, peak = tracemalloc.get_traced_memory()\n",
    "    \n",
    "print(f\"Current memory usage: {current / 10**6} MB\")\n",
    "print(f\"Peak memory usage: {peak / 10**6} MB\")\n",
    "    \n",
    "# Stop tracing memory\n",
    "tracemalloc.stop()\n"
   ]
  },
  {
   "cell_type": "markdown",
   "id": "71650b93-9abb-425b-bdc5-072870372865",
   "metadata": {},
   "source": [
    "### 17 Write a Python program to create and write a list of numbers to a file, one number per line"
   ]
  },
  {
   "cell_type": "code",
   "execution_count": 141,
   "id": "824622d2-51db-47f4-a04d-6fab464e44c1",
   "metadata": {},
   "outputs": [
    {
     "name": "stdout",
     "output_type": "stream",
     "text": [
      "List of numbers has been written to 'numbers.txt'.\n"
     ]
    }
   ],
   "source": [
    "# Define the list of numbers\n",
    "numbers = [10, 20, 30, 40, 50]\n",
    "\n",
    "# Open the file in write mode ('w') to create the file and write the numbers\n",
    "with open('numbers.txt', 'w') as file:\n",
    "    for number in numbers:\n",
    "        file.write(f\"{number}\\n\")\n",
    "\n",
    "print(\"List of numbers has been written to 'numbers.txt'.\")\n"
   ]
  },
  {
   "cell_type": "markdown",
   "id": "0549d2c9-1dd0-4c64-ad3e-5a7a0cf1b381",
   "metadata": {},
   "source": [
    "### 18  How would you implement a basic logging setup that logs to a file with rotation after 1MB"
   ]
  },
  {
   "cell_type": "code",
   "execution_count": 155,
   "id": "7ce6605e-6d9e-41ad-8ad6-590d73533d62",
   "metadata": {},
   "outputs": [],
   "source": [
    "import logging\n",
    "from logging.handlers import RotatingFileHandler\n",
    "\n",
    "# Specify the log file name as a string\n",
    "log_file = \"application.log\"\n",
    "\n",
    "# Create a logger\n",
    "logger = logging.getLogger(\"MyAppLogger\")\n",
    "logger.setLevel(logging.DEBUG)  # Set the logging level (DEBUG, INFO, WARNING, ERROR, CRITICAL)\n",
    "\n",
    "# Create a rotating file handler\n",
    "rotating_handler = RotatingFileHandler(\n",
    "    log_file,\n",
    "    maxBytes=1 * 1024 * 1024,  \n",
    "    backupCount=3  \n",
    ")\n",
    "\n",
    "# Define a formatter and set it for the handler\n",
    "formatter = logging.Formatter(\"%(asctime)s - %(name)s - %(levelname)s - %(message)s\")\n",
    "rotating_handler.setFormatter(formatter)\n",
    "\n",
    "# Add the handler to the logger\n",
    "logger.addHandler(rotating_handler)\n",
    "\n",
    "# Example log messages to demonstrate the setup\n",
    "for i in range(10000):\n",
    "    logger.debug(f\"Debug message {i}\")\n",
    "    logger.info(f\"Info message {i}\")\n",
    "    logger.warning(f\"Warning message {i}\")\n",
    "    logger.error(f\"Error message {i}\")\n"
   ]
  },
  {
   "cell_type": "markdown",
   "id": "bd621882-9b30-4ab3-8d3e-2cdb824aad27",
   "metadata": {},
   "source": [
    "### 19 Write a program that handles both IndexError and KeyError using a try-except block"
   ]
  },
  {
   "cell_type": "code",
   "execution_count": 165,
   "id": "cba60e35-fece-4b5a-a851-2c5c6543d865",
   "metadata": {},
   "outputs": [
    {
     "name": "stdout",
     "output_type": "stream",
     "text": [
      "IndexError occurred: list index out of range\n",
      "KeyError occurred: 'z'\n"
     ]
    }
   ],
   "source": [
    "def handle_errors():\n",
    "    # Example list and dictionary\n",
    "    my_list = [1, 2, 3]\n",
    "    my_dict = {\"a\": 10, \"b\": 20}\n",
    "\n",
    "    try:\n",
    "        # Trigger an IndexError by accessing an invalid index\n",
    "        print(\"List element:\", my_list[5])\n",
    "        \n",
    "    except IndexError as e:\n",
    "        print(f\"IndexError occurred: {e}\")\n",
    "\n",
    "    try:\n",
    "        \n",
    "        # Trigger a KeyError by accessing a non-existent key\n",
    "        print(\"Dictionary value:\", my_dict[\"z\"])\n",
    "    \n",
    "    except KeyError as e:\n",
    "        print(f\"KeyError occurred: {e}\")\n",
    "\n",
    "# Call the function\n",
    "handle_errors()\n"
   ]
  },
  {
   "cell_type": "markdown",
   "id": "22399c7e-9166-4897-806c-8b4171225c42",
   "metadata": {},
   "source": [
    "### 20  How would you open a file and read its contents using a context manager in Python"
   ]
  },
  {
   "cell_type": "code",
   "execution_count": 2,
   "id": "2bd4d99f-1a47-4f9c-ad0c-7ee64ebebd43",
   "metadata": {},
   "outputs": [
    {
     "name": "stdout",
     "output_type": "stream",
     "text": [
      "This is a newly created text file.\n",
      "You can write multiple lines to it.\n",
      "Appended line 1.\n",
      "Appended line 2.\n",
      "Appended line 1.\n",
      "Appended line 2.\n",
      "Appended line 1.\n",
      "Appended line 2.\n",
      "\n"
     ]
    }
   ],
   "source": [
    "file_path = 'example.txt'\n",
    "\n",
    "with open(\"example.txt\", 'r') as file:\n",
    "    contents = file.read()\n",
    "\n",
    "\n",
    "print(contents)"
   ]
  },
  {
   "cell_type": "markdown",
   "id": "93948a96-77cd-4922-ba14-8fe590f089a8",
   "metadata": {},
   "source": [
    "### 21 Write a Python program that reads a file and prints the number of occurrences of a specific word"
   ]
  },
  {
   "cell_type": "code",
   "execution_count": null,
   "id": "b9dd23b0-19e1-412a-a0e8-d4401a541dc5",
   "metadata": {},
   "outputs": [],
   "source": [
    "\n",
    "file_path = 'example.txt'  \n",
    "target_word = 'This is a newly created'   \n",
    "\n",
    "try:\n",
    "    \n",
    "    with open(file_path, 'r') as file:\n",
    "        # Read the entire file content and convert it to lowercase\n",
    "        content = file.read().lower()\n",
    "    \n",
    "    # Count the occurrences of the target word (case insensitive)\n",
    "    word_count = content.split().count(target_word.lower())\n",
    "    \n",
    "    print(f\"The word '{target_word}' occurs {word_count} times in the file.\")\n",
    "except FileNotFoundError:\n",
    "    print(f\"Error: The file '{file_path}' does not exist.\")\n",
    "except Exception as e:\n",
    "    print(f\"An error occurred: {e}\")\n"
   ]
  },
  {
   "cell_type": "markdown",
   "id": "e6627c2d-7352-4b9d-b214-dd41765fc373",
   "metadata": {},
   "source": [
    "### 22 How can you check if a file is empty before attempting to read its contents"
   ]
  },
  {
   "cell_type": "code",
   "execution_count": 4,
   "id": "00e19dab-589f-4244-b91d-f7269e2d0742",
   "metadata": {},
   "outputs": [
    {
     "name": "stdout",
     "output_type": "stream",
     "text": [
      "The file is not empty.\n"
     ]
    }
   ],
   "source": [
    "file_path = \"example.txt\"\n",
    "\n",
    "with open(file_path, 'r') as file:\n",
    "    content = file.read()\n",
    "    if not content:  # Equivalent to checking if the content is empty\n",
    "        print(\"The file is empty.\")\n",
    "    else:\n",
    "        print(\"The file is not empty.\")\n"
   ]
  },
  {
   "cell_type": "markdown",
   "id": "33bb461f-6ee2-478e-8bde-aabe6e5b141d",
   "metadata": {},
   "source": [
    "### 23 Write a Python program that writes to a log file when an error occurs during file handling"
   ]
  },
  {
   "cell_type": "code",
   "execution_count": 6,
   "id": "5fca80fb-f1eb-4ffb-a712-1c1e0b2c46bf",
   "metadata": {},
   "outputs": [
    {
     "name": "stdin",
     "output_type": "stream",
     "text": [
      "Enter the file path:  dsfvbg\n"
     ]
    },
    {
     "name": "stdout",
     "output_type": "stream",
     "text": [
      "Error: File 'dsfvbg' does not exist.\n",
      "Errors, if any, are logged in 'error_log.txt'.\n"
     ]
    }
   ],
   "source": [
    "import os\n",
    "import logging\n",
    "from datetime import datetime\n",
    "\n",
    "# Configure logging\n",
    "log_file = \"error_log.txt\"\n",
    "logging.basicConfig(\n",
    "    filename=log_file,\n",
    "    level=logging.ERROR,\n",
    "    format=\"%(asctime)s - %(levelname)s - %(message)s\",\n",
    ")\n",
    "\n",
    "def process_file(file_path):\n",
    "    try:\n",
    "        # Simulating file handling\n",
    "        if not os.path.exists(file_path):\n",
    "            raise FileNotFoundError(f\"File '{file_path}' does not exist.\")\n",
    "        \n",
    "        with open(file_path, 'r') as file:\n",
    "            # Simulating a read operation\n",
    "            content = file.read()\n",
    "            print(content)\n",
    "    \n",
    "    except FileNotFoundError as fnf_error:\n",
    "        logging.error(fnf_error)\n",
    "        print(f\"Error: {fnf_error}\")\n",
    "    \n",
    "    except PermissionError as perm_error:\n",
    "        logging.error(perm_error)\n",
    "        print(f\"Error: {perm_error}\")\n",
    "    \n",
    "    except Exception as e:\n",
    "        logging.error(f\"An unexpected error occurred: {e}\")\n",
    "        print(f\"An unexpected error occurred: {e}\")\n",
    "\n",
    "if __name__ == \"__main__\":\n",
    "    # Example usage\n",
    "    file_path = input(\"Enter the file path: \")\n",
    "    process_file(file_path)\n",
    "    print(f\"Errors, if any, are logged in '{log_file}'.\")\n"
   ]
  },
  {
   "cell_type": "code",
   "execution_count": null,
   "id": "5f62016d-8ca3-422d-a9d9-a5fecf93042a",
   "metadata": {},
   "outputs": [],
   "source": []
  }
 ],
 "metadata": {
  "kernelspec": {
   "display_name": "Python 3 (ipykernel)",
   "language": "python",
   "name": "python3"
  },
  "language_info": {
   "codemirror_mode": {
    "name": "ipython",
    "version": 3
   },
   "file_extension": ".py",
   "mimetype": "text/x-python",
   "name": "python",
   "nbconvert_exporter": "python",
   "pygments_lexer": "ipython3",
   "version": "3.12.7"
  }
 },
 "nbformat": 4,
 "nbformat_minor": 5
}

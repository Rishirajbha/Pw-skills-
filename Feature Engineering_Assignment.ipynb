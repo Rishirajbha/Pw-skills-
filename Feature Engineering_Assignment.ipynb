{
 "cells": [
  {
   "cell_type": "markdown",
   "id": "696ea3f4-5ba1-4b1d-ac1a-f47086eba10e",
   "metadata": {},
   "source": [
    "1. What is a parameter?"
   ]
  },
  {
   "cell_type": "markdown",
   "id": "0e533f9d-485f-4c76-978d-ccb04f621bfa",
   "metadata": {},
   "source": [
    "A parameter is a constant in an equation that defines a family of curves or functions. For example, in the equation of a line 𝑦=𝑚+y=mx+b, m and b are parameters that determine the slope and y-intercept."
   ]
  },
  {
   "cell_type": "markdown",
   "id": "5d1edd14-5f15-4c3a-b81a-0c45fe8d4185",
   "metadata": {},
   "source": [
    "2. What is correlation?\n",
    "What does negative correlation mean?\n"
   ]
  },
  {
   "cell_type": "markdown",
   "id": "6080ffb1-5557-4a3f-81bb-f9a4edf8b35c",
   "metadata": {},
   "source": [
    "Correlation is a statistical measure that describes the relationship between two variables. It tells us how changes in one variable are associated with changes in another.\n",
    "\n",
    "1. positive Correlation\n",
    "2. Negative Correlation"
   ]
  },
  {
   "cell_type": "markdown",
   "id": "f5c190fb-53bb-46e4-ae69-ea7cc467b74f",
   "metadata": {},
   "source": [
    "3. Define Machine Learning. What are the main components in Machine Learning?"
   ]
  },
  {
   "cell_type": "markdown",
   "id": "ac1c5ecc-7147-4d80-86af-27e860010e92",
   "metadata": {},
   "source": [
    "Machine Learning is a branch of artificial intelligence (AI) that enables computers to learn from data and make decisions or predictions without being explicitly programmed. It involves developing algorithms that can identify patterns, adapt, and improve their performance over time as they are exposed to more data.\n"
   ]
  },
  {
   "cell_type": "markdown",
   "id": "a0c1c46e-742f-4341-ac1a-a1838882ac16",
   "metadata": {},
   "source": [
    "4. How does loss value help in determining whether the model is good or not?"
   ]
  },
  {
   "cell_type": "markdown",
   "id": "8b3afe3b-4fad-44cf-80a9-8084973c9dbf",
   "metadata": {},
   "source": [
    "The loss value measures how far off the model's predictions are from the actual values. It serves as an indicator of model performance during training and helps in optimization."
   ]
  },
  {
   "cell_type": "markdown",
   "id": "e0889224-9aab-4c73-90aa-3a30c6ab2107",
   "metadata": {},
   "source": [
    "5. What are continuous and categorical variables?\n",
    "   "
   ]
  },
  {
   "cell_type": "markdown",
   "id": "62f847fc-6592-4f57-aefd-877b268f02e5",
   "metadata": {},
   "source": [
    "Variables are the features (or attributes) used in data analysis and machine learning. They can be broadly classified into continuous and categorical variables."
   ]
  },
  {
   "cell_type": "markdown",
   "id": "0c1de3bd-23ec-4eb9-ba16-b3bf0d3b58a9",
   "metadata": {},
   "source": [
    "6. How do we handle categorical variables in Machine Learning? What are the common t\n",
    "echniques?"
   ]
  },
  {
   "cell_type": "markdown",
   "id": "64a24a23-1e61-4bee-99af-58b695bd30a3",
   "metadata": {},
   "source": [
    "Since machine learning models work with numerical data, categorical variables must be converted into a numerical format. Below are the most common techniques to handle categorical variables:\n",
    "\n",
    "1. one hot encoding\n",
    "2. label encoding\n",
    "3. Ordinal Encoding\n",
    "4. Target Encoding "
   ]
  },
  {
   "cell_type": "markdown",
   "id": "aee9a1cd-0131-4098-b169-e9176fcf1b80",
   "metadata": {},
   "source": [
    "7. What do you mean by training and testing a dataset?\n"
   ]
  },
  {
   "cell_type": "markdown",
   "id": "943042ee-5a17-4dcb-918e-e48b10bbb801",
   "metadata": {},
   "source": [
    "When building a machine learning model, we need to evaluate how well it learns from data. To do this, we split the dataset into two main parts:\n",
    "\n",
    "1️ Training Set – Used to train the model.\n",
    "2️ Testing Set – Used to evaluate the model’s performance on unseen data."
   ]
  },
  {
   "cell_type": "markdown",
   "id": "cd219acb-ae68-4f3c-afec-cd48eb984eb1",
   "metadata": {},
   "source": [
    "8. What is sklearn.preprocessing?"
   ]
  },
  {
   "cell_type": "markdown",
   "id": "3b008ba7-ced5-46a7-a749-f9d84d5b617f",
   "metadata": {},
   "source": [
    "sklearn.preprocessing is a module in Scikit-Learn that provides functions for data preprocessing, which is a crucial step in machine learning. It helps in transforming raw data into a suitable format for training models.\n",
    "\n"
   ]
  },
  {
   "cell_type": "markdown",
   "id": "de634d6b-d6b8-4564-adc8-2a1b4a3a12a2",
   "metadata": {},
   "source": [
    "9. What is a Test set?"
   ]
  },
  {
   "cell_type": "markdown",
   "id": "1513ee63-80d0-40cf-9b40-2cd4ddcb9e3f",
   "metadata": {},
   "source": [
    "A test set is a portion of a dataset that is not used during training but is kept aside to evaluate the model's performance on unseen data. It helps in checking how well the trained model generalizes to new inputs."
   ]
  },
  {
   "cell_type": "markdown",
   "id": "6d27358e-5b0f-4481-8870-bacdb1c628e8",
   "metadata": {},
   "source": [
    "10. How do we split data for model fitting (training and testing) in Python?\n",
    "How do you approach a Machine Learning problem?"
   ]
  },
  {
   "cell_type": "code",
   "execution_count": 39,
   "id": "4a748747-4040-4801-b710-b706a42ad5e8",
   "metadata": {},
   "outputs": [
    {
     "name": "stdout",
     "output_type": "stream",
     "text": [
      "Training set size: (8, 2)\n",
      "Test set size: (2, 2)\n"
     ]
    }
   ],
   "source": [
    "from sklearn.model_selection import train_test_split\n",
    "import pandas as pd\n",
    "\n",
    "# Sample dataset\n",
    "data = {'Feature1': [10, 20, 30, 40, 50, 60, 70, 80, 90, 100],\n",
    "        'Feature2': [1, 2, 3, 4, 5, 6, 7, 8, 9, 10],\n",
    "        'Target': [0, 1, 0, 1, 0, 1, 0, 1, 0, 1]}\n",
    "\n",
    "df = pd.DataFrame(data)\n",
    "\n",
    "# Define features (X) and target variable (y)\n",
    "X = df[['Feature1', 'Feature2']]\n",
    "y = df['Target']\n",
    "\n",
    "# Split data into 80% training and 20% testing\n",
    "X_train, X_test, y_train, y_test = train_test_split(X, y, test_size=0.2, random_state=42)\n",
    "\n",
    "# Print shapes\n",
    "print(\"Training set size:\", X_train.shape)\n",
    "print(\"Test set size:\", X_test.shape)\n"
   ]
  },
  {
   "cell_type": "markdown",
   "id": "d62581c4-52d1-4632-8aec-93c081cfe2d5",
   "metadata": {},
   "source": [
    "11. Why do we have to perform EDA before fitting a model to the data?"
   ]
  },
  {
   "cell_type": "markdown",
   "id": "b3b7488e-61de-4d10-9c52-f81fb9a7e41e",
   "metadata": {},
   "source": [
    "Exploratory Data Analysis (EDA) is a crucial step in machine learning that helps understand and prepare the data before training a model. Without proper EDA, the model might learn from poor-quality data, leading to inaccurate predictions.\n"
   ]
  },
  {
   "cell_type": "markdown",
   "id": "3ed085a1-95a8-43fb-a937-852f05b4bf80",
   "metadata": {},
   "source": [
    "12. What is correlation?\n",
    "    "
   ]
  },
  {
   "cell_type": "markdown",
   "id": "a56ec744-2e94-4f1d-9030-e0e2dd96102d",
   "metadata": {},
   "source": [
    "Correlation is a statistical measure that describes the relationship between two variables. It tells us how strongly and in what direction one variable is related to another."
   ]
  },
  {
   "cell_type": "markdown",
   "id": "e14793ba-c4f9-4725-924b-e4322ce50642",
   "metadata": {},
   "source": [
    "13. What does negative correlation mean?"
   ]
  },
  {
   "cell_type": "markdown",
   "id": "194eaa20-3e67-4520-826a-291001e2c669",
   "metadata": {},
   "source": [
    "A negative correlation means that as one variable increases, the other decreases. In other words, the two variables move in opposite directions."
   ]
  },
  {
   "cell_type": "markdown",
   "id": "4a9c8f20-82d4-4636-9fe4-4aa70583deed",
   "metadata": {},
   "source": [
    "14. How can you find correlation between variables in Python?"
   ]
  },
  {
   "cell_type": "markdown",
   "id": "4eb42b9d-19fb-4737-b7f3-2fa64e6b9e1d",
   "metadata": {},
   "source": [
    "1. Using corr() in Pandas (For Pearson Correlation)\n",
    "2. using corrcoef() in numpy"
   ]
  },
  {
   "cell_type": "markdown",
   "id": "6d048f55-2508-487b-a21a-f129fa4421c3",
   "metadata": {},
   "source": [
    "15. What is causation? Explain difference between correlation and causation with an example"
   ]
  },
  {
   "cell_type": "markdown",
   "id": "85482f37-9be7-4885-bf3f-2585983ce207",
   "metadata": {},
   "source": [
    "Causation: (or causality) means that one event directly causes another. If variable A causes a change in variable B, then we say there is a causal relationship between them.\n",
    "\n",
    "difference:\n",
    "1.Correlation means that two variables are related, but it does not mean that one causes the other.\n",
    "2.Causation, on the other hand, means that one variable is directly responsible for the other."
   ]
  },
  {
   "cell_type": "markdown",
   "id": "817760be-6c3a-4543-86ff-df141fcc94e5",
   "metadata": {},
   "source": [
    "16. What is an Optimizer? What are different types of optimizers? Explain each with an example"
   ]
  },
  {
   "cell_type": "markdown",
   "id": "084dc532-2dcf-4f0e-8331-e88bb6b0e239",
   "metadata": {},
   "source": [
    "An optimizer is an algorithm that adjusts the parameters (weights and biases) of a machine learning model to minimize the loss function and improve performance. Optimizers play a crucial role in training deep learning models by updating parameters based on gradients."
   ]
  },
  {
   "cell_type": "markdown",
   "id": "378ffbaf-777c-4b10-b7b8-afe241913369",
   "metadata": {},
   "source": [
    "17. What is sklearn.linear_model ?"
   ]
  },
  {
   "cell_type": "markdown",
   "id": "01304a15-61eb-4ff5-b75a-b3340e511bfd",
   "metadata": {},
   "source": [
    "sklearn.linear_model is a module in Scikit-Learn (a popular Python machine learning library) that provides various linear models for regression and classification tasks. These models assume a linear relationship between input features and the target variable."
   ]
  },
  {
   "cell_type": "markdown",
   "id": "c9548622-cfaa-45e0-b245-c4c62e1dcb43",
   "metadata": {},
   "source": [
    "18. What does model.fit() do? What arguments must be given?"
   ]
  },
  {
   "cell_type": "markdown",
   "id": "13b7c2b7-e48a-45dd-8137-0c87491623f4",
   "metadata": {},
   "source": [
    "The fit() method in Scikit-Learn trains (or \"fits\") a machine learning model to the given data. It finds the best parameters that minimize the error between the model’s predictions and the actual target values."
   ]
  },
  {
   "cell_type": "markdown",
   "id": "437cc7ac-5ed2-4b52-b3e1-2b8760d3ec2f",
   "metadata": {},
   "source": [
    "19. What does model.predict() do? What arguments must be given?"
   ]
  },
  {
   "cell_type": "markdown",
   "id": "9849e9f7-e04b-4223-9de3-ad5a42c5de2a",
   "metadata": {},
   "source": [
    "The predict() method in Scikit-Learn makes predictions using the trained model. After fitting the model with fit(), predict() takes new input data (X_new) and returns the model’s predictions."
   ]
  },
  {
   "cell_type": "markdown",
   "id": "195a865a-1ee1-4151-9c28-955b0a5fb6f4",
   "metadata": {},
   "source": [
    "20. What are continuous and categorical variables?"
   ]
  },
  {
   "cell_type": "markdown",
   "id": "e627aae3-ce91-4136-9e13-754680ac2b4c",
   "metadata": {},
   "source": [
    "A continuous variable can take an infinite number of values within a given range. These are usually numerical and represent measurable quantities."
   ]
  },
  {
   "cell_type": "markdown",
   "id": "df4cf1f6-d24f-4ef0-8ac9-4f489d4d8231",
   "metadata": {},
   "source": [
    "21. What is feature scaling? How does it help in Machine Learning?"
   ]
  },
  {
   "cell_type": "markdown",
   "id": "1e582b29-f0d1-4e28-ae46-fa4f992b9330",
   "metadata": {},
   "source": [
    "Feature scaling is the process of normalizing or standardizing numerical features so that they are on a similar scale. This is important in machine learning because many algorithms perform better when numerical features have a consistent range."
   ]
  },
  {
   "cell_type": "markdown",
   "id": "4a51fa4e-520f-473e-bb15-d49420925f88",
   "metadata": {},
   "source": [
    "22. How do we perform scaling in Python?"
   ]
  },
  {
   "cell_type": "markdown",
   "id": "07677fdc-ad94-4f61-8802-e4a0d2572ee2",
   "metadata": {},
   "source": [
    "Feature scaling in Python is easy using the sklearn.preprocessing module. Below are the main methods and how to apply them.\n",
    "\n",
    "1. Mean max scalling(Normalization)\n",
    "2.  Standardization\n",
    "3.  Robust Scaling (for Outliers)"
   ]
  },
  {
   "cell_type": "markdown",
   "id": "8ab145d0-5912-4bcf-8b73-6e932b784b13",
   "metadata": {},
   "source": [
    "23. What is sklearn.preprocessing?"
   ]
  },
  {
   "cell_type": "code",
   "execution_count": null,
   "id": "982fa624-f783-40e7-8410-757a44cc7472",
   "metadata": {},
   "outputs": [],
   "source": []
  },
  {
   "cell_type": "markdown",
   "id": "4aca4488-63a8-4337-b485-f28746f752ab",
   "metadata": {},
   "source": [
    "24. How do we split data for model fitting (training and testing) in Python?"
   ]
  },
  {
   "cell_type": "code",
   "execution_count": null,
   "id": "0ff04c38-404d-4e81-8bb6-8a0b556f53d6",
   "metadata": {},
   "outputs": [],
   "source": []
  },
  {
   "cell_type": "markdown",
   "id": "7be16970-3ba8-47c6-8c36-2e36334b1143",
   "metadata": {},
   "source": [
    "25. Explain data encoding?"
   ]
  },
  {
   "cell_type": "markdown",
   "id": "ff9a3a7f-9ace-4f50-874f-3e3912118c5e",
   "metadata": {},
   "source": [
    " "
   ]
  },
  {
   "cell_type": "markdown",
   "id": "0429f801-dd3a-47ae-b219-0e22accdf77d",
   "metadata": {},
   "source": []
  },
  {
   "cell_type": "code",
   "execution_count": null,
   "id": "1cdd6162-5bd9-4e7c-a665-96d4b612193c",
   "metadata": {},
   "outputs": [],
   "source": []
  }
 ],
 "metadata": {
  "kernelspec": {
   "display_name": "Python 3 (ipykernel)",
   "language": "python",
   "name": "python3"
  },
  "language_info": {
   "codemirror_mode": {
    "name": "ipython",
    "version": 3
   },
   "file_extension": ".py",
   "mimetype": "text/x-python",
   "name": "python",
   "nbconvert_exporter": "python",
   "pygments_lexer": "ipython3",
   "version": "3.12.7"
  }
 },
 "nbformat": 4,
 "nbformat_minor": 5
}

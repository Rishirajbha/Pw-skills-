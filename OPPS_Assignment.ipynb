{
 "cells": [
  {
   "cell_type": "markdown",
   "id": "6f89b9d9-0dd5-4d93-9136-0af32a1e7f43",
   "metadata": {},
   "source": [
    "### 1.  What are the five key concepts of Object-Oriented Programming (OOP)?"
   ]
  },
  {
   "cell_type": "markdown",
   "id": "79503b74-bba7-4aa8-880d-380cee60fb8a",
   "metadata": {},
   "source": [
    "the five key concepts of Object-Oriented Programming (OOP) are:\n",
    "\n",
    "Encapsulation:-\n",
    "\n",
    "Encapsulation is the bundling of data (attributes) and methods (functions) \n",
    "that operate on the data into a single unit, usually called a class.\n",
    "Access to the data is restricted to protect it from unauthorized modification.\n",
    "\n",
    "Inheritance:-\n",
    "\n",
    "Inheritance allows a class (child class) to acquire the properties and behaviors of another class (parent class).\n",
    "It promotes code reusability and establishes a relationship between classes.\n",
    "\n",
    "\n",
    "Polymorphism:-\n",
    "\n",
    "Polymorphism means \"many forms.\" It allows methods in different classes to have \n",
    "the same name but behave differently depending on the object that calls them.\n",
    "\n",
    "\n",
    "Abstraction:-\n",
    "\n",
    "Abstraction is the process of hiding the internal details of a system and exposing only the necessary functionalities.\n",
    "\n"
   ]
  },
  {
   "cell_type": "markdown",
   "id": "0e1bed6a-6057-43ca-a251-cc3263344eaa",
   "metadata": {},
   "source": [
    "### 2. Write a Python class for a `Car` with attributes for `make`, `model`, and `year`. Include a method to display the car's information?"
   ]
  },
  {
   "cell_type": "code",
   "execution_count": 55,
   "id": "9e6cdd1f-1a2d-45cf-a00e-3131853f630f",
   "metadata": {},
   "outputs": [
    {
     "name": "stdout",
     "output_type": "stream",
     "text": [
      "Car Information: 2023 Toyota Camry\n"
     ]
    }
   ],
   "source": [
    "class Car:\n",
    "    def __init__(self, make, model, year):\n",
    "        \"\"\"\n",
    "        Initialize the Car object with make, model, and year.\n",
    "        \"\"\"\n",
    "        self.make = make\n",
    "        self.model = model\n",
    "        self.year = year\n",
    "\n",
    "    def display_info(self):\n",
    "        \"\"\"\n",
    "        Display the car's information.\n",
    "        \"\"\"\n",
    "        print(f\"Car Information: {self.year} {self.make} {self.model}\")\n",
    "\n",
    "\n",
    "my_car = Car(\"Toyota\", \"Camry\", 2023)\n",
    "my_car.display_info()"
   ]
  },
  {
   "cell_type": "markdown",
   "id": "f75d5c8f-8c34-41e3-bb33-f1d35a8779a5",
   "metadata": {},
   "source": [
    "### 3.  Explain the difference between instance methods and class methods. Provide an example of each"
   ]
  },
  {
   "cell_type": "code",
   "execution_count": 74,
   "id": "2b7f344e-30b1-479f-a522-ff8ac8b3fa7d",
   "metadata": {},
   "outputs": [
    {
     "name": "stdout",
     "output_type": "stream",
     "text": [
      "Instance Method: Instance attribute = I am an instance attribute\n",
      "Class Method: Class attribute = I am a class attribute\n"
     ]
    }
   ],
   "source": [
    "class Example:\n",
    "    class_attribute = \"I am a class attribute\"\n",
    "\n",
    "    def __init__(self, instance_attribute):\n",
    "        self.instance_attribute = instance_attribute\n",
    "\n",
    "    def instance_method(self):\n",
    "        return f\"Instance Method: Instance attribute = {self.instance_attribute}\"\n",
    "        \n",
    "    @classmethod\n",
    "    def class_method(cls):\n",
    "        return f\"Class Method: Class attribute = {cls.class_attribute}\"\n",
    "\n",
    "\n",
    "\n",
    "obj = Example(\"I am an instance attribute\")\n",
    "\n",
    "\n",
    "print(obj.instance_method()) \n",
    "\n",
    "# Calling class method\n",
    "print(Example.class_method()) "
   ]
  },
  {
   "cell_type": "markdown",
   "id": "0a6ec88a-ae18-443f-9678-6b61b2feb106",
   "metadata": {},
   "source": [
    "### 4. How does Python implement method overloading? Give an example?"
   ]
  },
  {
   "cell_type": "code",
   "execution_count": 78,
   "id": "3e2d6220-9492-408a-b3a0-c4d3183fcd4e",
   "metadata": {},
   "outputs": [
    {
     "name": "stdout",
     "output_type": "stream",
     "text": [
      "5\n",
      "15\n",
      "30\n"
     ]
    }
   ],
   "source": [
    "class Calculator:\n",
    "    def add(self, a, b=0, c=0):\n",
    "       \n",
    "        return a + b + c\n",
    "\n",
    "\n",
    "calc = Calculator()\n",
    "\n",
    "print(calc.add(5))           \n",
    "print(calc.add(5, 10))       \n",
    "print(calc.add(5, 10, 15))"
   ]
  },
  {
   "cell_type": "markdown",
   "id": "5d4f6d58-cd32-4f16-b3d1-f506535fb417",
   "metadata": {},
   "source": [
    "### 5. What are the three types of access modifiers in Python? How are they denoted?\n",
    "\n",
    "\n"
   ]
  },
  {
   "cell_type": "code",
   "execution_count": 82,
   "id": "07e86e79-56f1-4191-8b88-40761408b022",
   "metadata": {},
   "outputs": [
    {
     "name": "stdout",
     "output_type": "stream",
     "text": [
      "I am public\n",
      "This is a public method\n",
      "I am protected\n",
      "This is a protected method\n"
     ]
    }
   ],
   "source": [
    "## three types of modifiers:-\n",
    "\n",
    "##1. Public\n",
    "#Definition: Members with public access can be accessed from anywhere, both within and outside the class.\n",
    "class Example:\n",
    "    def __init__(self):\n",
    "        self.public_attribute = \"I am public\"\n",
    "\n",
    "    def public_method(self):\n",
    "        print(\"This is a public method\")\n",
    "\n",
    "obj = Example()\n",
    "print(obj.public_attribute) \n",
    "obj.public_method() \n",
    "\n",
    "\n",
    "## 2. Protected\n",
    "\n",
    "#Definition: Members with protected access are intended to be accessible within the class and its subclasses.\n",
    "#While not strictly enforced, it is a convention in Python to use protected members cautiously outside the class or subclass.\n",
    "\n",
    "class Parent:\n",
    "    def __init__(self):\n",
    "        self._protected_attribute = \"I am protected\"\n",
    "\n",
    "    def _protected_method(self):\n",
    "        print(\"This is a protected method\")\n",
    "\n",
    "class Child(Parent):\n",
    "    def access_protected(self):\n",
    "        print(self._protected_attribute)  \n",
    "        self._protected_method()          \n",
    "\n",
    "child = Child()\n",
    "child.access_protected()\n"
   ]
  },
  {
   "cell_type": "markdown",
   "id": "0662f125-df86-4c38-bb05-ebd299fd8df1",
   "metadata": {},
   "source": [
    "### 6.  Describe the five types of inheritance in Python. Provide a simple example of multiple inheritance."
   ]
  },
  {
   "cell_type": "code",
   "execution_count": 94,
   "id": "c290c5b4-c1b2-433a-8bb7-a76a9bdbe1e0",
   "metadata": {},
   "outputs": [
    {
     "name": "stdout",
     "output_type": "stream",
     "text": [
      "Hello from Parent\n",
      "Hello from Parent1\n",
      "Welcome from Parent2\n",
      "Hi from Grandparent\n",
      "Hello from Parent\n",
      "Hello from Parent\n",
      "Hello from Parent\n"
     ]
    }
   ],
   "source": [
    "## Single Inheritance\n",
    "class Parent:\n",
    "    def greet(self):\n",
    "        print(\"Hello from Parent\")\n",
    "\n",
    "class Child(Parent):\n",
    "    pass\n",
    "\n",
    "obj = Child()\n",
    "obj.greet()\n",
    "\n",
    "## Multiple Inheritance\n",
    "\n",
    "class Parent1:\n",
    "    def greet(self):\n",
    "        print(\"Hello from Parent1\")\n",
    "\n",
    "class Parent2:\n",
    "    def welcome(self):\n",
    "        print(\"Welcome from Parent2\")\n",
    "\n",
    "class Child(Parent1, Parent2):\n",
    "    pass\n",
    "\n",
    "obj = Child()\n",
    "obj.greet()     \n",
    "obj.welcome()\n",
    "\n",
    "\n",
    "## Multilevel Inheritance\n",
    "\n",
    "class Grandparent:\n",
    "    def say_hi(self):\n",
    "        print(\"Hi from Grandparent\")\n",
    "\n",
    "class Parent(Grandparent):\n",
    "    pass\n",
    "\n",
    "class Child(Parent):\n",
    "    pass\n",
    "\n",
    "obj = Child()\n",
    "obj.say_hi()\n",
    "\n",
    "\n",
    "## Hierarchical Inheritance\n",
    "\n",
    "class Parent:\n",
    "    def greet(self):\n",
    "        print(\"Hello from Parent\")\n",
    "\n",
    "class Child1(Parent):\n",
    "    pass\n",
    "\n",
    "class Child2(Parent):\n",
    "    pass\n",
    "\n",
    "obj1 = Child1()\n",
    "obj2 = Child2()\n",
    "\n",
    "obj1.greet() \n",
    "obj2.greet()\n",
    "\n",
    "\n",
    "## Hybrid Inheritance\n",
    "class Parent:\n",
    "    def greet(self):\n",
    "        print(\"Hello from Parent\")\n",
    "\n",
    "class Child1(Parent):\n",
    "    pass\n",
    "\n",
    "class Child2(Parent):\n",
    "    pass\n",
    "\n",
    "class GrandChild(Child1, Child2):\n",
    "    pass\n",
    "\n",
    "obj = GrandChild()\n",
    "obj.greet()"
   ]
  },
  {
   "cell_type": "markdown",
   "id": "d1197b41-be13-40a2-82d2-7d83a3a86efa",
   "metadata": {},
   "source": [
    "### 7.  What is the Method Resolution Order (MRO) in Python? How can you retrieve it programmatically?"
   ]
  },
  {
   "cell_type": "code",
   "execution_count": 96,
   "id": "a73c3671-3b42-4054-8317-ada67e2198f3",
   "metadata": {},
   "outputs": [
    {
     "name": "stdout",
     "output_type": "stream",
     "text": [
      "[<class '__main__.D'>, <class '__main__.B'>, <class '__main__.C'>, <class '__main__.A'>, <class 'object'>]\n"
     ]
    }
   ],
   "source": [
    "## The Method Resolution Order (MRO) in Python determines the order in which a method or \n",
    "##attribute is searched in a class hierarchy during method calls. This is especially relevant \n",
    "## in multiple inheritance scenarios where the hierarchy is complex.\n",
    "\n",
    "class A:\n",
    "    pass\n",
    "\n",
    "class B(A):\n",
    "    pass\n",
    "\n",
    "class C(A):\n",
    "    pass\n",
    "\n",
    "class D(B, C):\n",
    "    pass\n",
    "\n",
    "print(D.mro())"
   ]
  },
  {
   "cell_type": "markdown",
   "id": "2423ff80-abe3-47c9-98df-9ac7122db45b",
   "metadata": {},
   "source": [
    "### 8. . Create an abstract base class `Shape` with an abstract method `area()`. Then create two subclasses Circle` and `Rectangle` that implement the `area()` method.\n",
    "\n",
    "\n"
   ]
  },
  {
   "cell_type": "code",
   "execution_count": 98,
   "id": "36ccd5b9-3dc7-41a4-843f-c5a78bd4d22b",
   "metadata": {},
   "outputs": [
    {
     "name": "stdout",
     "output_type": "stream",
     "text": [
      "Circle area: 78.54\n",
      "Rectangle area: 24\n"
     ]
    }
   ],
   "source": [
    "from abc import ABC, abstractmethod\n",
    "import math\n",
    "\n",
    "class Shape(ABC):\n",
    "    \"\"\"\n",
    "    Abstract base class for shapes.\n",
    "    \"\"\"\n",
    "    @abstractmethod\n",
    "    def area(self):\n",
    "        \"\"\"\n",
    "        Abstract method to calculate the area of a shape.\n",
    "        Must be implemented by subclasses.\n",
    "        \"\"\"\n",
    "        pass\n",
    "\n",
    "class Circle(Shape):\n",
    "    def __init__(self, radius):\n",
    "        self.radius = radius\n",
    "\n",
    "    def area(self):\n",
    "        \"\"\"\n",
    "        Calculate the area of the circle.\n",
    "        Formula: π * radius^2\n",
    "        \"\"\"\n",
    "        return math.pi * (self.radius ** 2)\n",
    "\n",
    "class Rectangle(Shape):\n",
    "    def __init__(self, width, height):\n",
    "        self.width = width\n",
    "        self.height = height\n",
    "\n",
    "    def area(self):\n",
    "        \"\"\"\n",
    "        Calculate the area of the rectangle.\n",
    "        Formula: width * height\n",
    "        \"\"\"\n",
    "        return self.width * self.height\n",
    "\n",
    "# Example usage:\n",
    "circle = Circle(5)\n",
    "rectangle = Rectangle(4, 6)\n",
    "\n",
    "print(f\"Circle area: {circle.area():.2f}\")     \n",
    "print(f\"Rectangle area: {rectangle.area()}\")"
   ]
  },
  {
   "cell_type": "markdown",
   "id": "4c0396bc-e5af-4825-beca-9525c1c5ba49",
   "metadata": {},
   "source": [
    "### 9.  Demonstrate polymorphism by creating a function that can work with different shape objects to calculate and print their areas."
   ]
  },
  {
   "cell_type": "code",
   "execution_count": 100,
   "id": "e10031a7-5ac5-486b-839e-1be9689c83d5",
   "metadata": {},
   "outputs": [
    {
     "name": "stdout",
     "output_type": "stream",
     "text": [
      "The area of the Circle is: 78.54\n",
      "The area of the Rectangle is: 24.00\n"
     ]
    }
   ],
   "source": [
    "from abc import ABC, abstractmethod\n",
    "import math\n",
    "\n",
    "class Shape(ABC):\n",
    "    @abstractmethod\n",
    "    def area(self):\n",
    "        pass\n",
    "\n",
    "class Circle(Shape):\n",
    "    def __init__(self, radius):\n",
    "        self.radius = radius\n",
    "\n",
    "    def area(self):\n",
    "        return math.pi * (self.radius ** 2)\n",
    "\n",
    "class Rectangle(Shape):\n",
    "    def __init__(self, width, height):\n",
    "        self.width = width\n",
    "        self.height = height\n",
    "\n",
    "    def area(self):\n",
    "        return self.width * self.height\n",
    "\n",
    "def print_area(shape):\n",
    "    \"\"\"\n",
    "    Accepts a shape object and prints its area.\n",
    "    This function demonstrates polymorphism by working with any subclass of Shape.\n",
    "    \"\"\"\n",
    "    print(f\"The area of the {shape.__class__.__name__} is: {shape.area():.2f}\")\n",
    "\n",
    "# Example usage:\n",
    "circle = Circle(5) \n",
    "rectangle = Rectangle(4, 6) \n",
    "\n",
    "\n",
    "print_area(circle)    \n",
    "print_area(rectangle) \n"
   ]
  },
  {
   "cell_type": "markdown",
   "id": "a8344d3b-ed81-4c37-9a5f-bc54cda801ec",
   "metadata": {},
   "source": [
    "### 10.  Implement encapsulation in a `BankAccount` class with private attributes for `balance` and account_number`. Include methods for deposit, withdrawal, and balance inquiry"
   ]
  },
  {
   "cell_type": "code",
   "execution_count": 102,
   "id": "7a445ca4-0971-449b-b166-a298c11c5e2b",
   "metadata": {},
   "outputs": [
    {
     "name": "stdout",
     "output_type": "stream",
     "text": [
      "Deposited $500.00. New balance: $1500.00\n",
      "Withdrew $200.00. New balance: $1300.00\n",
      "1300\n",
      "123456789\n",
      "Insufficient funds.\n"
     ]
    }
   ],
   "source": [
    "class BankAccount:\n",
    "    def __init__(self, account_number, initial_balance=0):\n",
    "        \"\"\"\n",
    "        Initialize the BankAccount with an account number and initial balance.\n",
    "        Balance is private to prevent direct access.\n",
    "        \"\"\"\n",
    "        self.__account_number = account_number  # Private attribute\n",
    "        self.__balance = initial_balance        # Private attribute\n",
    "\n",
    "    def deposit(self, amount):\n",
    "        \"\"\"\n",
    "        Deposit a specified amount into the account.\n",
    "        \"\"\"\n",
    "        if amount > 0:\n",
    "            self.__balance += amount\n",
    "            print(f\"Deposited ${amount:.2f}. New balance: ${self.__balance:.2f}\")\n",
    "        else:\n",
    "            print(\"Deposit amount must be positive.\")\n",
    "\n",
    "    def withdraw(self, amount):\n",
    "        \"\"\"\n",
    "        Withdraw a specified amount from the account.\n",
    "        Ensures sufficient balance before withdrawal.\n",
    "        \"\"\"\n",
    "        if amount > 0:\n",
    "            if amount <= self.__balance:\n",
    "                self.__balance -= amount\n",
    "                print(f\"Withdrew ${amount:.2f}. New balance: ${self.__balance:.2f}\")\n",
    "            else:\n",
    "                print(\"Insufficient funds.\")\n",
    "        else:\n",
    "            print(\"Withdrawal amount must be positive.\")\n",
    "\n",
    "    def get_balance(self):\n",
    "        \"\"\"\n",
    "        Return the current balance of the account.\n",
    "        \"\"\"\n",
    "        return self.__balance\n",
    "\n",
    "    def get_account_number(self):\n",
    "        \"\"\"\n",
    "        Return the account number.\n",
    "        \"\"\"\n",
    "        return self.__account_number\n",
    "\n",
    "\n",
    "# Example usage\n",
    "account = BankAccount(\"123456789\", 1000)\n",
    "\n",
    "\n",
    "\n",
    "account.deposit(500)        \n",
    "account.withdraw(200)       \n",
    "print(account.get_balance())  \n",
    "print(account.get_account_number())  \n",
    "\n",
    "account.withdraw(2000)  \n"
   ]
  },
  {
   "cell_type": "markdown",
   "id": "e97eb18c-cc5f-4c7d-babc-1694521b06ea",
   "metadata": {},
   "source": [
    "### 11. Write a class that overrides the `__str__` and `__add__` magic methods. What will these methods allow you to do?"
   ]
  },
  {
   "cell_type": "code",
   "execution_count": 104,
   "id": "25830035-355f-46be-8fbc-844e4c8d8feb",
   "metadata": {},
   "outputs": [
    {
     "name": "stdout",
     "output_type": "stream",
     "text": [
      "CustomNumber(5)\n",
      "CustomNumber(10)\n",
      "CustomNumber(15)\n",
      "CustomNumber(22)\n"
     ]
    }
   ],
   "source": [
    "class CustomNumber:\n",
    "    def __init__(self, value):\n",
    "        self.value = value\n",
    "\n",
    "    def __str__(self):\n",
    "        \"\"\"\n",
    "        Override the string representation of the object.\n",
    "        \"\"\"\n",
    "        return f\"CustomNumber({self.value})\"\n",
    "\n",
    "    def __add__(self, other):\n",
    "        \"\"\"\n",
    "        Override the + operator to add two CustomNumber objects.\n",
    "        \"\"\"\n",
    "        if isinstance(other, CustomNumber):\n",
    "            return CustomNumber(self.value + other.value)\n",
    "        return NotImplemented\n",
    "\n",
    "\n",
    "num1 = CustomNumber(5)\n",
    "num2 = CustomNumber(10)\n",
    "\n",
    "\n",
    "print(num1) \n",
    "print(num2) \n",
    "\n",
    "\n",
    "result = num1 + num2\n",
    "print(result)  \n",
    "\n",
    "\n",
    "num3 = CustomNumber(7)\n",
    "print(num1 + num2 + num3) \n"
   ]
  },
  {
   "cell_type": "markdown",
   "id": "d79cbfe5-5310-45a1-aeb4-c60681dc1220",
   "metadata": {},
   "source": [
    "### 12. Create a decorator that measures and prints the execution time of a function."
   ]
  },
  {
   "cell_type": "code",
   "execution_count": 108,
   "id": "e193d90a-42ec-40fc-a0b6-ddf2f45adbe9",
   "metadata": {},
   "outputs": [
    {
     "name": "stdout",
     "output_type": "stream",
     "text": [
      "Finished slow function\n",
      "Function 'slow_function' executed in 2.000554 seconds\n",
      "Function 'add' executed in 0.000000 seconds\n",
      "Result of add: 12\n"
     ]
    }
   ],
   "source": [
    "import time\n",
    "\n",
    "def execution_timer(func):\n",
    "    \"\"\"\n",
    "    A decorator to measure and print the execution time of a function.\n",
    "    \"\"\"\n",
    "    def wrapper(*args, **kwargs):\n",
    "        start_time = time.time()  # Record the start time\n",
    "        result = func(*args, **kwargs)  # Execute the original function\n",
    "        end_time = time.time()  # Record the end time\n",
    "        execution_time = end_time - start_time  # Calculate elapsed time\n",
    "        print(f\"Function '{func.__name__}' executed in {execution_time:.6f} seconds\")\n",
    "        return result\n",
    "    return wrapper\n",
    "\n",
    "# Example usage:\n",
    "@execution_timer\n",
    "def slow_function():\n",
    "    time.sleep(2)  # Simulates a slow operation\n",
    "    print(\"Finished slow function\")\n",
    "\n",
    "@execution_timer\n",
    "def add(a, b):\n",
    "    return a + b\n",
    "\n",
    "# Test the decorator\n",
    "slow_function()\n",
    "result = add(5, 7)\n",
    "print(f\"Result of add: {result}\")\n"
   ]
  },
  {
   "cell_type": "markdown",
   "id": "0b25fb1e-8d96-4aac-b002-25023dd456f3",
   "metadata": {},
   "source": [
    "### 13.  Explain the concept of the Diamond Problem in multiple inheritance. How does Python resolve it?"
   ]
  },
  {
   "cell_type": "code",
   "execution_count": 110,
   "id": "a3431c65-a0d6-4acb-93b6-e9f0e6d53566",
   "metadata": {},
   "outputs": [
    {
     "name": "stdout",
     "output_type": "stream",
     "text": [
      "Hello from B\n"
     ]
    }
   ],
   "source": [
    "## The diamond problem occurs in object-oriented programming languages that support multiple inheritance. \n",
    "#It arises when a class inherits from two classes that have a common base class, \n",
    "#creating a \"diamond-shaped\" inheritance structure.\n",
    "\n",
    "class A:\n",
    "    def greet(self):\n",
    "        print(\"Hello from A\")\n",
    "\n",
    "class B(A):\n",
    "    def greet(self):\n",
    "        print(\"Hello from B\")\n",
    "\n",
    "class C(A):\n",
    "    def greet(self):\n",
    "        print(\"Hello from C\")\n",
    "\n",
    "class D(B, C):\n",
    "    pass\n",
    "\n",
    "obj = D()\n",
    "obj.greet()  \n"
   ]
  },
  {
   "cell_type": "markdown",
   "id": "66655422-5f62-40e0-8328-6e5f3d6bddce",
   "metadata": {},
   "source": [
    "### 14.  Write a class method that keeps track of the number of instances created from a class."
   ]
  },
  {
   "cell_type": "code",
   "execution_count": 112,
   "id": "0b9b455b-2b65-43da-9f9a-4097249f5812",
   "metadata": {},
   "outputs": [
    {
     "name": "stdout",
     "output_type": "stream",
     "text": [
      "Number of instances created: 3\n"
     ]
    }
   ],
   "source": [
    "class InstanceCounter:\n",
    "    \n",
    "    instance_count = 0\n",
    "\n",
    "    def __init__(self):\n",
    "        \"\"\"\n",
    "        Constructor that increments the instance counter each time\n",
    "        a new instance is created.\n",
    "        \"\"\"\n",
    "        InstanceCounter.instance_count += 1\n",
    "\n",
    "    @classmethod\n",
    "    def get_instance_count(cls):\n",
    "        \"\"\"\n",
    "        Class method to return the number of instances created.\n",
    "        \"\"\"\n",
    "        return cls.instance_count\n",
    "\n",
    "# Example usage\n",
    "obj1 = InstanceCounter()\n",
    "obj2 = InstanceCounter()\n",
    "obj3 = InstanceCounter()\n",
    "\n",
    "print(f\"Number of instances created: {InstanceCounter.get_instance_count()}\")\n",
    "\n"
   ]
  },
  {
   "cell_type": "markdown",
   "id": "c86f581b-ac44-45be-86d9-da75ea7254b6",
   "metadata": {},
   "source": [
    "### 15. Implement a static method in a class that checks if a given year is a leap year."
   ]
  },
  {
   "cell_type": "code",
   "execution_count": 115,
   "id": "c07b3e6a-be20-4190-9136-92f2da226b22",
   "metadata": {},
   "outputs": [
    {
     "name": "stdout",
     "output_type": "stream",
     "text": [
      "True\n",
      "False\n",
      "True\n",
      "False\n"
     ]
    }
   ],
   "source": [
    "class YearUtils:\n",
    "    @staticmethod\n",
    "    def is_leap_year(year):\n",
    "        \"\"\"\n",
    "        Static method to check if a given year is a leap year.\n",
    "        \n",
    "        A year is a leap year if:\n",
    "        - It is divisible by 4, and\n",
    "        - It is not divisible by 100 unless it is also divisible by 400.\n",
    "        \"\"\"\n",
    "        if (year % 4 == 0 and year % 100 != 0) or (year % 400 == 0):\n",
    "            return True\n",
    "        return False\n",
    "\n",
    "# Example usage\n",
    "print(YearUtils.is_leap_year(2020))  \n",
    "print(YearUtils.is_leap_year(1900)) \n",
    "print(YearUtils.is_leap_year(2000))  \n",
    "print(YearUtils.is_leap_year(2023))  \n"
   ]
  },
  {
   "cell_type": "code",
   "execution_count": null,
   "id": "c443dfec-a727-4b6e-a89c-f0a4bea89df7",
   "metadata": {},
   "outputs": [],
   "source": []
  },
  {
   "cell_type": "code",
   "execution_count": null,
   "id": "6b606fac-910d-4e93-905f-cd7e19e655c4",
   "metadata": {},
   "outputs": [],
   "source": []
  },
  {
   "cell_type": "code",
   "execution_count": null,
   "id": "ef5344e0-bf87-476d-8ce6-8e6ae8e3c607",
   "metadata": {},
   "outputs": [],
   "source": []
  }
 ],
 "metadata": {
  "kernelspec": {
   "display_name": "Python 3 (ipykernel)",
   "language": "python",
   "name": "python3"
  },
  "language_info": {
   "codemirror_mode": {
    "name": "ipython",
    "version": 3
   },
   "file_extension": ".py",
   "mimetype": "text/x-python",
   "name": "python",
   "nbconvert_exporter": "python",
   "pygments_lexer": "ipython3",
   "version": "3.12.7"
  }
 },
 "nbformat": 4,
 "nbformat_minor": 5
}

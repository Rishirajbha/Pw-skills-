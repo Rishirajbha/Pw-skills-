{
 "cells": [
  {
   "cell_type": "markdown",
   "id": "dcb899d3-11ab-403b-b562-7ec3c98fe78d",
   "metadata": {},
   "source": [
    "### 1.Write a code to reverse a string?\n"
   ]
  },
  {
   "cell_type": "code",
   "execution_count": 30,
   "id": "d1a484f1-f26d-489a-aeba-1e19dd9b0f0d",
   "metadata": {},
   "outputs": [
    {
     "name": "stdout",
     "output_type": "stream",
     "text": [
      "Reverse of string is : sllikswp\n"
     ]
    }
   ],
   "source": [
    "string= \"pwskills\"\n",
    "reverse_string= string[::-1]\n",
    "print(f\"Reverse of string is : {reverse_string}\")"
   ]
  },
  {
   "cell_type": "markdown",
   "id": "ecac1a7e-6688-460c-90db-c98ca076a157",
   "metadata": {},
   "source": [
    "### 2. Write a code to count the number of vowels in a string?\n"
   ]
  },
  {
   "cell_type": "code",
   "execution_count": 42,
   "id": "18b41ac2-5c73-4111-83bf-446bc217fcce",
   "metadata": {},
   "outputs": [
    {
     "name": "stdout",
     "output_type": "stream",
     "text": [
      "Number of vowels: 9\n"
     ]
    }
   ],
   "source": [
    "string= \"pwskills provide some courses\"\n",
    "vowels= 0\n",
    "for i in string:\n",
    "    if i in ('a','e','i','o','u'):\n",
    "        vowels+=1\n",
    "print(f\"Number of vowels: {vowels}\")"
   ]
  },
  {
   "cell_type": "markdown",
   "id": "e1418257-0d38-47f2-80e2-7b96a2e175d8",
   "metadata": {},
   "source": [
    "### 3. Write a code to check if a given string is a palindrome or not?"
   ]
  },
  {
   "cell_type": "code",
   "execution_count": 64,
   "id": "5c2bd1da-709c-4369-b047-1afb5d570226",
   "metadata": {},
   "outputs": [
    {
     "name": "stdout",
     "output_type": "stream",
     "text": [
      "madam is palindrome.\n"
     ]
    }
   ],
   "source": [
    "string= \"madam\"\n",
    "if string.lower() == string[::-1].lower():\n",
    "    print(f\"{string} is palindrome.\")\n",
    "else:\n",
    "   print(f\"{string} is not palindrome.\")\n"
   ]
  },
  {
   "cell_type": "markdown",
   "id": "70ff98df-5024-4d31-b4dc-3e28943d0468",
   "metadata": {},
   "source": [
    "### 4. Write a code to check if two given strings are anagrams of each other?"
   ]
  },
  {
   "cell_type": "code",
   "execution_count": null,
   "id": "b8acec81-6cd8-45c0-80d6-9cb494874606",
   "metadata": {},
   "outputs": [],
   "source": [
    "str1 = \"Listen\"\n",
    "str2 = \"slient\"\n",
    "\n",
    "if sorted(str1.lower()) == sorted(str2.lower()):\n",
    "    print(f\"{str1} and {str2} are anagrams\")\n",
    "else:\n",
    "    print(f\"{str1} and {str2} are not anagrams\")\n"
   ]
  },
  {
   "cell_type": "markdown",
   "id": "6a5d6b94-91cb-4c41-84e0-33c500864114",
   "metadata": {},
   "source": [
    "### 5. Write a code to find all occurrences of a given substring within another string?"
   ]
  },
  {
   "cell_type": "code",
   "execution_count": 57,
   "id": "9c4288c1-3b2c-4c28-b74c-92a2ab64b786",
   "metadata": {},
   "outputs": [
    {
     "name": "stdout",
     "output_type": "stream",
     "text": [
      "[0, 6, 19]\n"
     ]
    }
   ],
   "source": [
    "str1 = \"hello hello world, hello\"\n",
    "str2 = \"hello\"\n",
    "str3 = []\n",
    "start = 0\n",
    "while True:\n",
    "  index= str1.find(str2,start)\n",
    "  if index==-1:\n",
    "       break\n",
    "  str3.append(index)\n",
    "  start= index+1\n",
    "print(str3)\n",
    "            \n",
    "            \n",
    "\n"
   ]
  },
  {
   "cell_type": "markdown",
   "id": "7aca0505-17d6-47c1-be79-4c6df646eb4a",
   "metadata": {},
   "source": [
    "### 6. Write a code to perform basic string compression using the counts of repeated characters?"
   ]
  },
  {
   "cell_type": "code",
   "execution_count": 73,
   "id": "67d161ca-22b9-4923-83ab-b66515a4f29d",
   "metadata": {},
   "outputs": [
    {
     "name": "stdout",
     "output_type": "stream",
     "text": [
      "{'h': 3, 'e': 3, 'l': 7, 'o': 4, 'w': 1, 'r': 1, 'd': 1}\n"
     ]
    }
   ],
   "source": [
    "str1 = \"hellohelloworldhello\"\n",
    "str2 = {}\n",
    "for i in str1:\n",
    "  if i in str2:\n",
    "      str2[i]+=1\n",
    "  else:\n",
    "      str2[i]=1\n",
    "print(str2)      "
   ]
  },
  {
   "cell_type": "markdown",
   "id": "5fde69e9-613f-4e45-9e02-d1a9ce19b345",
   "metadata": {},
   "source": [
    "### 7. Write a code to determine if a string has all unique characters?"
   ]
  },
  {
   "cell_type": "code",
   "execution_count": 99,
   "id": "c4201881-60d2-4426-bc50-6572554b7ed3",
   "metadata": {},
   "outputs": [
    {
     "name": "stdout",
     "output_type": "stream",
     "text": [
      "'''aeiouu''' does not have all unique strings\n"
     ]
    }
   ],
   "source": [
    "str= \"aeiouu\"\n",
    "if len(str) == len(set(str)):\n",
    "  print(f\"{str} have all unique strings\")\n",
    "else:\n",
    "  print(f\"'''{str}'''  does not have all unique strings\")"
   ]
  },
  {
   "cell_type": "markdown",
   "id": "c98e8ae8-ac58-4256-a3cf-11db1ceb747d",
   "metadata": {},
   "source": [
    "### 8. Write a code to convert a given string to uppercase or lowercase?"
   ]
  },
  {
   "cell_type": "code",
   "execution_count": 114,
   "id": "19388d02-6bbd-40a9-9b1f-ce37b62e43f2",
   "metadata": {},
   "outputs": [
    {
     "name": "stdout",
     "output_type": "stream",
     "text": [
      "Upper case of string is ''' AEIOUU ''' \n",
      "Lower case of string is ''' aeiouu ''' \n"
     ]
    }
   ],
   "source": [
    "str= \"aEioUu\"\n",
    "print(f\"Upper case of string is ''' {str.upper()} ''' \")\n",
    "print(f\"Lower case of string is ''' {str.lower()} ''' \")"
   ]
  },
  {
   "cell_type": "markdown",
   "id": "43daaaba-4bae-481f-843a-94bd6f59b6c5",
   "metadata": {},
   "source": [
    "### 9. Write a code to count the number of words in a string?"
   ]
  },
  {
   "cell_type": "code",
   "execution_count": 127,
   "id": "e9d686f5-569a-44d9-9f63-5407904ecb0e",
   "metadata": {},
   "outputs": [
    {
     "name": "stdout",
     "output_type": "stream",
     "text": [
      "{'h': 3, 'e': 3, 'l': 7, 'o': 4, 'w': 1, 'r': 1, 'd': 1}\n"
     ]
    }
   ],
   "source": [
    "str1 = \"hellohelloworldhello\"\n",
    "str2 = {}\n",
    "for i in str1:\n",
    "  if i in str2:\n",
    "      str2[i]+=1\n",
    "  else:\n",
    "      str2[i]=1\n",
    "print(str2) "
   ]
  },
  {
   "cell_type": "markdown",
   "id": "a45d7835-467b-4c2c-9364-e8138f9afa38",
   "metadata": {},
   "source": [
    "### 10. Write a code to concatenate two strings without using the + operator?"
   ]
  },
  {
   "cell_type": "code",
   "execution_count": 211,
   "id": "a2a20d7f-a7a6-4af5-823a-fe89d797d33f",
   "metadata": {},
   "outputs": [
    {
     "name": "stdout",
     "output_type": "stream",
     "text": [
      "concat of both string ''' Listenslient ''' \n"
     ]
    }
   ],
   "source": [
    "str1 = \"Listen\"\n",
    "str2 = \"slient\"\n",
    "concat_str= ''.join([str1,str2])\n",
    "print(f\"concat of both string ''' {concat_str} ''' \")"
   ]
  },
  {
   "cell_type": "markdown",
   "id": "a5acc964-f6d2-4bb4-8f13-56787fe5c17d",
   "metadata": {},
   "source": [
    "### 11. Write a code to remove all occurrences of a specific element from a list?"
   ]
  },
  {
   "cell_type": "code",
   "execution_count": 243,
   "id": "dd1200cd-9cd1-47c3-89a5-2d0a8c56d6d3",
   "metadata": {},
   "outputs": [
    {
     "name": "stdout",
     "output_type": "stream",
     "text": [
      "[1, 3, 4, 5, 6, 3, 1]\n"
     ]
    }
   ],
   "source": [
    "str1= [1,2,3,4,5,6,3,1]\n",
    "remove_ele = 2\n",
    "while remove_ele in str1:\n",
    "   str1.remove(remove_ele) \n",
    "print(str1)"
   ]
  },
  {
   "cell_type": "markdown",
   "id": "90931d6b-c8aa-4b1e-b5ad-915a70eec342",
   "metadata": {},
   "source": [
    "### 12. Implement a code to find the second largest number in a given list of integers?"
   ]
  },
  {
   "cell_type": "code",
   "execution_count": 251,
   "id": "62f28140-b0a8-4ed2-bc29-0369481a869c",
   "metadata": {},
   "outputs": [
    {
     "name": "stdout",
     "output_type": "stream",
     "text": [
      "2nd largest number is: 5\n"
     ]
    }
   ],
   "source": [
    "str= [1,2,3,4,5,6,3,1]\n",
    "str.sort(reverse= True)\n",
    "print(f\"2nd largest number is: {str[1]}\")"
   ]
  },
  {
   "cell_type": "markdown",
   "id": "e413fca9-b53f-47ff-997b-3fc01e988752",
   "metadata": {},
   "source": [
    "### 13. Create a code to count the occurrences of each element in a list and return a dictionary with elements as keys and their counts as value?"
   ]
  },
  {
   "cell_type": "code",
   "execution_count": 253,
   "id": "bba4f27e-d91c-4f8b-b01c-6216b07e4ca6",
   "metadata": {},
   "outputs": [
    {
     "name": "stdout",
     "output_type": "stream",
     "text": [
      "{'h': 3, 'e': 3, 'l': 7, 'o': 4, 'w': 1, 'r': 1, 'd': 1}\n"
     ]
    }
   ],
   "source": [
    "str1 = \"hellohelloworldhello\"\n",
    "str2 = {}\n",
    "for i in str1:\n",
    "  if i in str2:\n",
    "      str2[i]+=1\n",
    "  else:\n",
    "      str2[i]=1\n",
    "print(str2)"
   ]
  },
  {
   "cell_type": "markdown",
   "id": "cd6ce701-7a80-479b-ae77-67bca382671e",
   "metadata": {},
   "source": [
    "### 14. Write a code to reverse a list in-place without using any built-in reverse functions?\n"
   ]
  },
  {
   "cell_type": "code",
   "execution_count": 256,
   "id": "84d73214-4a4d-4f71-b8ea-8cdec29d0025",
   "metadata": {},
   "outputs": [
    {
     "name": "stdout",
     "output_type": "stream",
     "text": [
      "Reversed list: [1, 3, 6, 5, 4, 3, 2, 1]\n"
     ]
    }
   ],
   "source": [
    "str = [1, 2, 3, 4, 5, 6, 3, 1]\n",
    "\n",
    "for i in range(len(str) // 2):  \n",
    "    str[i], str[len(str) - 1 - i] = str[len(str) - 1 - i], str[i]\n",
    "    \n",
    "print(\"Reversed list:\", str)\n",
    "\n",
    "        "
   ]
  },
  {
   "cell_type": "markdown",
   "id": "03edb1a0-d4f3-443e-86a6-566b5d30ab31",
   "metadata": {},
   "source": [
    "### 15. Implement a code to find and remove duplicates from a list while preserving the original order of elements?"
   ]
  },
  {
   "cell_type": "code",
   "execution_count": 262,
   "id": "56361267-546b-4c83-9747-b97aec9edac4",
   "metadata": {},
   "outputs": [
    {
     "name": "stdout",
     "output_type": "stream",
     "text": [
      "list after removing elements: [1, 2, 3, 4, 5, 6]\n"
     ]
    }
   ],
   "source": [
    "str = [1, 2, 3, 4, 5, 6, 3, 1]\n",
    "set_ele= set(str)\n",
    "list_ele= list(set_ele)\n",
    "print(f\"list after removing elements: {list_ele}\")"
   ]
  },
  {
   "cell_type": "markdown",
   "id": "10919024-4a7a-4263-b2b9-2d0dc3105c4e",
   "metadata": {},
   "source": [
    "### 16. Create a code to check if a given list is sorted (either in ascending or descending order) or not?"
   ]
  },
  {
   "cell_type": "code",
   "execution_count": 278,
   "id": "697b37eb-2fe6-40a6-89f5-c766442c7b9f",
   "metadata": {},
   "outputs": [
    {
     "name": "stdout",
     "output_type": "stream",
     "text": [
      "List is not sorted.\n"
     ]
    }
   ],
   "source": [
    "str = [1, 2, 3, 4, 5, 6,2]\n",
    "\n",
    "\n",
    "if str == sorted(str):\n",
    "    print(\"List is sorted in ascending order.\")\n",
    "elif str == sorted(str, reverse=True):\n",
    "    print(\"List is sorted in descending order.\")\n",
    "else:\n",
    "    print(\"List is not sorted.\")"
   ]
  },
  {
   "cell_type": "markdown",
   "id": "8f011a48-d270-411d-a0aa-37fb5cd700f3",
   "metadata": {},
   "source": [
    "### 17. Write a code to merge two sorted lists into a single sorted list?"
   ]
  },
  {
   "cell_type": "code",
   "execution_count": 286,
   "id": "d62134e3-6d2e-407c-9d7b-9f43e02931a2",
   "metadata": {},
   "outputs": [
    {
     "data": {
      "text/plain": [
       "[1, 2, 3, 4, 5, 6, 6, 1, 2, 3, 4, 5]"
      ]
     },
     "execution_count": 286,
     "metadata": {},
     "output_type": "execute_result"
    }
   ],
   "source": [
    "str1 = [1, 2, 3, 4, 5, 6]\n",
    "str2 = [6,1, 2, 3, 4, 5]\n",
    "str1.extend(str2)\n",
    "print(str1)"
   ]
  },
  {
   "cell_type": "markdown",
   "id": "cbd25e25-4c86-4270-bc56-1119d3213844",
   "metadata": {},
   "source": [
    "### 18. Implement a code to find the intersection of two given lists?"
   ]
  },
  {
   "cell_type": "code",
   "execution_count": 294,
   "id": "53efdb01-dfb4-4088-aea1-04c9e9b15ebd",
   "metadata": {},
   "outputs": [
    {
     "name": "stdout",
     "output_type": "stream",
     "text": [
      "Intrsection of two list is: [1, 2, 3, 4, 5, 6, 90, 87]\n"
     ]
    }
   ],
   "source": [
    "str1 = [1, 2, 3, 4, 5, 6,90,87]\n",
    "str2 = [6,1, 2, 3, 4, 5,9,65,4,3,2,90,87]\n",
    "str3= []\n",
    "for i in str1:\n",
    "    if i in str2 and i not in str3:\n",
    "        str3.append(i)\n",
    "print(f\"Intrsection of two list is: {str3}\")\n",
    "        "
   ]
  },
  {
   "cell_type": "markdown",
   "id": "f745be94-bde3-4dc8-9a28-e7860aead3db",
   "metadata": {},
   "source": [
    "### 19. Create a code to find the union of two lists without duplicates"
   ]
  },
  {
   "cell_type": "code",
   "execution_count": 308,
   "id": "e7a2d330-30f8-4722-b583-d4680ab77ccf",
   "metadata": {},
   "outputs": [
    {
     "name": "stdout",
     "output_type": "stream",
     "text": [
      "union of two list without duplicates is: [1, 2, 3, 4, 5, 65, 9, 87, 90]\n"
     ]
    }
   ],
   "source": [
    "str1 = [1, 2, 3,90,87]\n",
    "str2 = [1, 2, 3, 4, 5,9,65,4,3,2,90,87]\n",
    "union_set = set(str1) | set(str2)\n",
    "list_ele= list(union_set)\n",
    "print(f\"union of two list without duplicates is: {list_ele}\")"
   ]
  },
  {
   "cell_type": "markdown",
   "id": "625c1641-0dd1-4e74-87ae-00f99c626551",
   "metadata": {},
   "source": [
    "### 20. Write a code to shuffle a given list randomly without using any built-in shuffle functions"
   ]
  },
  {
   "cell_type": "code",
   "execution_count": 310,
   "id": "8843ef9d-7553-4041-b05c-88e53845f091",
   "metadata": {},
   "outputs": [
    {
     "name": "stdout",
     "output_type": "stream",
     "text": [
      "Shuffled list: [3, 1, 2, 7, 8, 4, 5, 6]\n"
     ]
    }
   ],
   "source": [
    "\n",
    "str_list = [1, 2, 3, 4, 5, 6, 7, 8]\n",
    "\n",
    "n = len(str_list)\n",
    "for i in range(n):\n",
    "    j = (i + 3) % n \n",
    "    str_list[i], str_list[j] = str_list[j], str_list[i]\n",
    "\n",
    "print(f\"Shuffled list: {str_list}\")\n"
   ]
  },
  {
   "cell_type": "markdown",
   "id": "4a727586-0b66-42b9-b580-ef35d443278d",
   "metadata": {},
   "source": [
    "### 21. Write a code that takes two tuples as input and returns a new tuple containing elements that are common to both input tuples?"
   ]
  },
  {
   "cell_type": "code",
   "execution_count": 330,
   "id": "22c81fd0-6f25-49d2-9bae-3a686428b6f5",
   "metadata": {},
   "outputs": [
    {
     "name": "stdin",
     "output_type": "stream",
     "text": [
      "Enter integer numbers only for tuple1 (separated by space):  1,2,3,4\n",
      "Enter integer numbers only for tuple2 (separated by space):  1,2,4\n"
     ]
    },
    {
     "name": "stdout",
     "output_type": "stream",
     "text": [
      "tuple contains common elements:- (1, 2, 4)\n"
     ]
    }
   ],
   "source": [
    "tuple1 = tuple(map(int, input(\"Enter integer numbers only for tuple1 (separated by space): \").split(\",\")))\n",
    "tuple2 = tuple(map(int, input(\"Enter integer numbers only for tuple2 (separated by space): \").split(\",\")))\n",
    "new_list =[]\n",
    "for i in tuple1:\n",
    "    if i in tuple2 and i not in new_list:\n",
    "        new_list.append(i)\n",
    "\n",
    "new_tuple = tuple(new_list)        \n",
    "        \n",
    "print(f\"tuple contains common elements:- {new_tuple}\")        "
   ]
  },
  {
   "cell_type": "markdown",
   "id": "cbde944d-8bad-464c-99c9-aab0eb0cd8d8",
   "metadata": {},
   "source": [
    "### 22. Create a code that prompts the user to enter two sets of integers separated by commas. Then, print the intersection of these two sets"
   ]
  },
  {
   "cell_type": "code",
   "execution_count": 334,
   "id": "2d1406db-44ef-4716-8e6d-89f6648ae9a5",
   "metadata": {},
   "outputs": [
    {
     "name": "stdin",
     "output_type": "stream",
     "text": [
      "Enter integer numbers only for set1 (separated by space):  1,2,3,4\n",
      "Enter integer numbers only for set2 (separated by space):  3,2,1,4,5\n"
     ]
    },
    {
     "name": "stdout",
     "output_type": "stream",
     "text": [
      "tuple contains common elements:- {1, 2, 3, 4}\n"
     ]
    }
   ],
   "source": [
    "set1 = set(map(int, input(\"Enter integer numbers only for set1 (separated by space): \").split(\",\")))\n",
    "set2 = set(map(int, input(\"Enter integer numbers only for set2 (separated by space): \").split(\",\")))\n",
    "new_set = set1.intersection(set2)        \n",
    "print(f\"tuple contains common elements:- {new_set}\") "
   ]
  },
  {
   "cell_type": "markdown",
   "id": "3cfa5299-bf7b-46f1-821c-354d9b800f63",
   "metadata": {},
   "source": [
    "### 23 Write a code to concatenate two tuples. The function should take two tuples as input and return a new tuple containing elements from both input tuples"
   ]
  },
  {
   "cell_type": "code",
   "execution_count": 343,
   "id": "fd5114b8-f749-40a3-9adb-9bb59c4f11e8",
   "metadata": {},
   "outputs": [
    {
     "name": "stdin",
     "output_type": "stream",
     "text": [
      "Enter integer numbers only for tuple1 (separated by space):  1,2,3,4\n",
      "Enter integer numbers only for tuple2 (separated by space):  2,3,4\n"
     ]
    },
    {
     "name": "stdout",
     "output_type": "stream",
     "text": [
      "tuple contains common elements:- (1, 2, 3, 4, 2, 3, 4)\n"
     ]
    }
   ],
   "source": [
    "tuple1 = tuple(map(int, input(\"Enter integer numbers only for tuple1 (separated by space): \").split(\",\")))\n",
    "tuple2 = tuple(map(int, input(\"Enter integer numbers only for tuple2 (separated by space): \").split(\",\")))\n",
    "\n",
    "concatenated_tuple = tuple1 + tuple2       \n",
    "        \n",
    "print(f\"tuple contains common elements:- {concatenated_tuple}\") "
   ]
  },
  {
   "cell_type": "markdown",
   "id": "00034d8d-9182-4807-b6ec-8ffc3f773f33",
   "metadata": {},
   "source": [
    "### 24. Develop a code that prompts the user to input two sets of strings. Then, print the elements that are present in the first set but not in the second set?"
   ]
  },
  {
   "cell_type": "code",
   "execution_count": 355,
   "id": "bd69eb54-cf51-4107-97b3-532ae918f55d",
   "metadata": {},
   "outputs": [
    {
     "name": "stdin",
     "output_type": "stream",
     "text": [
      "Enter integer numbers only for set1 (separated by space):  e,r,t\n",
      "Enter integer numbers only for set2 (separated by space):  e,r\n"
     ]
    },
    {
     "name": "stdout",
     "output_type": "stream",
     "text": [
      "{'e', 't', 'r'}\n"
     ]
    }
   ],
   "source": [
    "set1 = set(input(\"Enter integer numbers only for set1 (separated by space): \").split(\",\"))\n",
    "set2 = set(input(\"Enter integer numbers only for set2 (separated by space): \").split(\",\"))\n",
    "print(set1)"
   ]
  },
  {
   "cell_type": "markdown",
   "id": "13b3b12a-931e-44c7-91eb-0dd9d5104c11",
   "metadata": {},
   "source": [
    "### 25. Create a code that takes a tuple and two integers as input. The function should return a new tuple containing elements from the original tuple within the specified range of indices"
   ]
  },
  {
   "cell_type": "code",
   "execution_count": 361,
   "id": "68651ad1-d731-4c05-9dfa-f7b48c5f8251",
   "metadata": {},
   "outputs": [
    {
     "name": "stdin",
     "output_type": "stream",
     "text": [
      "Enter integer numbers only for tuple1 (separated by space):  23,45,56,7,7,5,8,8\n",
      "Enter the start index:  3\n",
      "Enter the end index:  5\n"
     ]
    },
    {
     "name": "stdout",
     "output_type": "stream",
     "text": [
      "New tuple with elements from index 3 to 5 is :- (7, 7)\n"
     ]
    }
   ],
   "source": [
    "tuple1 = tuple(map(int, input(\"Enter integer numbers only for tuple1 (separated by space): \").split(\",\")))\n",
    "\n",
    "start_index = int(input(\"Enter the start index: \"))\n",
    "end_index = int(input(\"Enter the end index: \"))\n",
    "\n",
    "new_tuple= tuple1[start_index:end_index]\n",
    "print(f\"New tuple with elements from index {start_index} to {end_index} is :- {new_tuple}\")"
   ]
  },
  {
   "cell_type": "markdown",
   "id": "2fe96a6b-95e9-4014-b9d5-b59464b4764a",
   "metadata": {},
   "source": [
    "### 26. & Write a code that prompts the user to input two sets of characters. Then, print the union of these two sets"
   ]
  },
  {
   "cell_type": "code",
   "execution_count": 368,
   "id": "0f8633fc-aef6-48b2-a9a2-7b0ce0982f3f",
   "metadata": {},
   "outputs": [
    {
     "name": "stdin",
     "output_type": "stream",
     "text": [
      "Enter integer numbers only for set1 (separated by space):  3,4,4,5,7\n",
      "Enter integer numbers only for set2 (separated by space):  3,4,8,7,8,9\n"
     ]
    },
    {
     "data": {
      "text/plain": [
       "{'3', '4', '5', '7', '8', '9'}"
      ]
     },
     "execution_count": 368,
     "metadata": {},
     "output_type": "execute_result"
    }
   ],
   "source": [
    "set1 = set(input(\"Enter integer numbers only for set1 (separated by space): \").split(\",\"))\n",
    "set2 = set(input(\"Enter integer numbers only for set2 (separated by space): \").split(\",\"))\n",
    "set3= set1| set2\n",
    "set3"
   ]
  },
  {
   "cell_type": "markdown",
   "id": "bb1ba871-35e1-4abe-8700-68767e4b1bc5",
   "metadata": {},
   "source": [
    "### 27. & Develop a code that takes a tuple of integers as input. The function should return the maximum and minimum values from the tuple using tuple unpacking"
   ]
  },
  {
   "cell_type": "code",
   "execution_count": 374,
   "id": "d47a5281-e674-40ae-bce8-a8dd39ad5fbb",
   "metadata": {},
   "outputs": [
    {
     "name": "stdin",
     "output_type": "stream",
     "text": [
      "Enter integer numbers only for tuple1 (separated by space):  2,3,4,5,6\n"
     ]
    },
    {
     "name": "stdout",
     "output_type": "stream",
     "text": [
      "maximum value in the tuple is:- 6\n",
      "Minimum value in the tuple is:- 2\n"
     ]
    }
   ],
   "source": [
    "tuple1 = tuple(map(int, input(\"Enter integer numbers only for tuple1 (separated by space): \").split(\",\")))\n",
    "\n",
    "print(f\"maximum value in the tuple is:- {max(tuple1)}\")\n",
    "print(f\"Minimum value in the tuple is:- {min(tuple1)}\")\n"
   ]
  },
  {
   "cell_type": "markdown",
   "id": "6496fb8b-1fa2-426e-ac59-5eaf05ad0870",
   "metadata": {},
   "source": [
    "### 28. Create a code that defines two sets of integers. Then, print the union, intersection, and difference of these two sets"
   ]
  },
  {
   "cell_type": "code",
   "execution_count": 380,
   "id": "0c3ac704-d08f-49d7-b44e-d5f606f1926a",
   "metadata": {},
   "outputs": [
    {
     "name": "stdin",
     "output_type": "stream",
     "text": [
      "Enter integer numbers only for set1 (separated by space):  2,3,4,5,56,6\n",
      "Enter integer numbers only for set2 (separated by space):  3,2,4,5,6\n"
     ]
    },
    {
     "name": "stdout",
     "output_type": "stream",
     "text": [
      "union of two sets is:- {'3', '2', '5', '6', '56', '4'}\n",
      "Intersection of two sets is:- {'3', '2', '5', '6', '4'}\n",
      "difference of two sets is:- {'56'}\n"
     ]
    }
   ],
   "source": [
    "set1 = set(input(\"Enter integer numbers only for set1 (separated by space): \").split(\",\"))\n",
    "set2 = set(input(\"Enter integer numbers only for set2 (separated by space): \").split(\",\"))\n",
    "\n",
    "set3= set1| set2\n",
    "set4= set1.intersection(set2)\n",
    "set5= set1.difference(set2)\n",
    "print(f\"union of two sets is:- {set3}\")\n",
    "print(f\"Intersection of two sets is:- {set4}\")\n",
    "print(f\"difference of two sets is:- {set5}\")"
   ]
  },
  {
   "cell_type": "markdown",
   "id": "51aac6b8-4ba6-444b-889a-7cd8a8707971",
   "metadata": {},
   "source": [
    "### 29. Write a code that takes a tuple and an element as input. The function should return the count of occurrences of the given element in the tuple"
   ]
  },
  {
   "cell_type": "code",
   "execution_count": 390,
   "id": "e8ca4d18-d522-4413-9744-083841d19c60",
   "metadata": {},
   "outputs": [
    {
     "name": "stdin",
     "output_type": "stream",
     "text": [
      "Enter integer numbers only for tuple1 (separated by space):  q,2,2,q,e,4,4,e,3\n"
     ]
    },
    {
     "name": "stdout",
     "output_type": "stream",
     "text": [
      "{'q': 2, '2': 2, 'e': 2, '4': 2, '3': 1}\n"
     ]
    }
   ],
   "source": [
    "tuple1 = tuple( input(\"Enter integer numbers only for tuple1 (separated by space): \").split(\",\"))\n",
    "occurance={}\n",
    "\n",
    "for i in tuple1:\n",
    "    if i in occurance:\n",
    "       occurance[i]+=1\n",
    "    else:\n",
    "        occurance[i]=1\n",
    "print(occurance)"
   ]
  },
  {
   "cell_type": "markdown",
   "id": "fb0f2248-b878-400b-a658-ebf0ed24ccf1",
   "metadata": {},
   "source": [
    "### 30. Develop a code that prompts the user to input two sets of strings. Then, print the symmetric difference of these two sets"
   ]
  },
  {
   "cell_type": "code",
   "execution_count": 406,
   "id": "f8ed1e61-606d-47b2-b1fe-0eaa80d3e335",
   "metadata": {},
   "outputs": [
    {
     "name": "stdin",
     "output_type": "stream",
     "text": [
      "Enter the first set of strings (comma-separated):  apple,banana\n",
      "Enter the second set of strings (comma-separated):  carrot,apple\n"
     ]
    },
    {
     "name": "stdout",
     "output_type": "stream",
     "text": [
      "The symmetric difference between the two sets is: {'carrot', 'banana'}\n"
     ]
    }
   ],
   "source": [
    "set1 = input(\"Enter the first set of strings (comma-separated): \").split(',')\n",
    "set2 = input(\"Enter the second set of strings (comma-separated): \").split(',')\n",
    "\n",
    "set1 = {s.strip() for s in set1}\n",
    "set2 = {s.strip() for s in set2}\n",
    "\n",
    "symmetric_difference = set1.symmetric_difference(set2)\n",
    "\n",
    "print(\"The symmetric difference between the two sets is:\", symmetric_difference)\n"
   ]
  },
  {
   "cell_type": "markdown",
   "id": "3d884474-30d9-492a-868b-b5fcc0a72cf7",
   "metadata": {},
   "source": [
    "### 31. Write a code that takes a list of words as input and returns a dictionary where the keys are unique words and the values are the frequencies of those words in the input list"
   ]
  },
  {
   "cell_type": "code",
   "execution_count": 408,
   "id": "5e3e9c96-866c-4ff6-be6f-cb5a329b9d59",
   "metadata": {},
   "outputs": [
    {
     "name": "stdin",
     "output_type": "stream",
     "text": [
      "Enter a list of words (comma-separated):  a,a,a,a,4,3,4,3,f,f\n"
     ]
    },
    {
     "name": "stdout",
     "output_type": "stream",
     "text": [
      "Word frequencies: {'a': 4, '4': 2, '3': 2, 'f': 2}\n"
     ]
    }
   ],
   "source": [
    "words = input(\"Enter a list of words (comma-separated): \").split(',')\n",
    "\n",
    "words = [word.strip() for word in words]\n",
    "\n",
    "word_count = {}\n",
    "\n",
    "for word in words:\n",
    "    word_count[word] = word_count.get(word, 0) + 1\n",
    "\n",
    "print(\"Word frequencies:\", word_count)\n"
   ]
  },
  {
   "cell_type": "markdown",
   "id": "2165cac4-3a92-4ada-b690-99838369a281",
   "metadata": {},
   "source": [
    "### 32. Write a code that takes two dictionaries as input and merges them into a single dictionary. If there are common keys, the values should be added together"
   ]
  },
  {
   "cell_type": "code",
   "execution_count": 4,
   "id": "9a71675b-5969-42ea-a1dd-f6de9c2765bf",
   "metadata": {},
   "outputs": [
    {
     "name": "stdin",
     "output_type": "stream",
     "text": [
      "Enter the first dictionary:  {'a': 10, 'b': 20, 'c': 30}\n",
      "Enter the second dictionary:  {'a': 10, 'd': 20, 'c': 30}\n"
     ]
    },
    {
     "name": "stdout",
     "output_type": "stream",
     "text": [
      "{'a': 20, 'b': 20, 'c': 60, 'd': 20}\n"
     ]
    }
   ],
   "source": [
    "dict1 = eval(input(\"Enter the first dictionary: \"))\n",
    "dict2 = eval(input(\"Enter the second dictionary: \"))\n",
    "\n",
    "merged_dict= dict1.copy()\n",
    "\n",
    "for key,value in dict2.items():\n",
    "    if key in merged_dict:\n",
    "        merged_dict[key]+= value \n",
    "    else:\n",
    "        merged_dict[key]= value\n",
    "print(merged_dict)\n",
    "\n"
   ]
  },
  {
   "cell_type": "markdown",
   "id": "f86182d4-40c2-4bd8-8973-a993c8e61efc",
   "metadata": {},
   "source": [
    "### 33.  Write a code to access a value in a nested dictionary. The function should take the dictionary and a list ofkeys as input, and return the corresponding value. If any of the keys do not exist in the dictionary, the function should return None"
   ]
  },
  {
   "cell_type": "code",
   "execution_count": 36,
   "id": "ba209048-ff8d-444b-939b-4629a1d1a5b0",
   "metadata": {},
   "outputs": [
    {
     "name": "stdin",
     "output_type": "stream",
     "text": [
      "Enter the first dictionary:  {     'a': {         'b': {             'c': 42         }     },     'x': {         'y': {             'z': 100         }     } }\n"
     ]
    },
    {
     "name": "stdout",
     "output_type": "stream",
     "text": [
      "100\n"
     ]
    }
   ],
   "source": [
    "# sample input\n",
    "# {\n",
    "#     'a': {\n",
    "#         'b': {\n",
    "#             'c': 42\n",
    "#         }\n",
    "#     },\n",
    "#     'x': {\n",
    "#         'y': {\n",
    "#             'z': 100\n",
    "#         }\n",
    "#     }\n",
    "# }\n",
    "\n",
    "nested_dict = eval(input(\"Enter the first dictionary: \"))\n",
    "keys = ['x', 'y', 'z']  \n",
    "\n",
    "current_dict = nested_dict  \n",
    "\n",
    "for key in keys:\n",
    "    if isinstance(current_dict, dict) and key in current_dict:\n",
    "        current_dict = current_dict[key]  \n",
    "    else:\n",
    "        current_dict = None  \n",
    "        break  \n",
    "\n",
    "print(current_dict)\n"
   ]
  },
  {
   "cell_type": "markdown",
   "id": "6d98b38b-b0bd-4ddc-a22c-7801258b617f",
   "metadata": {},
   "source": [
    "### 34. Write a code that takes a dictionary as input and returns a sorted version of it based on the values. You can choose whether to sort in ascending or descending order"
   ]
  },
  {
   "cell_type": "code",
   "execution_count": 38,
   "id": "5bf03d34-aa5c-4821-9f1c-3b88eb568e2f",
   "metadata": {},
   "outputs": [
    {
     "name": "stdin",
     "output_type": "stream",
     "text": [
      "Enter the first dictionary:   {'apple': 10, 'banana': 3, 'orange': 7}\n"
     ]
    },
    {
     "name": "stdout",
     "output_type": "stream",
     "text": [
      "[('banana', 3), ('orange', 7), ('apple', 10)]\n"
     ]
    }
   ],
   "source": [
    "new_dict= eval(input(\"Enter the first dictionary: \"))\n",
    "\n",
    "sorted_items = sorted(new_dict.items(),key=lambda item: item[1], reverse=False)\n",
    "\n",
    "print(sorted_items)"
   ]
  },
  {
   "cell_type": "markdown",
   "id": "322c53e2-3800-4cba-bf35-de00a7817808",
   "metadata": {},
   "source": [
    "### 35. Write a code that inverts a dictionary, swapping keys and values. Ensure that the inverted dictionary correctly handles cases where multiple keys have the same value by storing the keys as a list in the inverted dictionary"
   ]
  },
  {
   "cell_type": "code",
   "execution_count": 46,
   "id": "68b3cee4-d22f-4455-83b6-986923b8c68b",
   "metadata": {},
   "outputs": [
    {
     "name": "stdout",
     "output_type": "stream",
     "text": [
      "{10: ['apple', 'kiwi'], 3: ['banana'], 7: ['orange']}\n"
     ]
    }
   ],
   "source": [
    "my_dict = {'apple': 10, 'banana': 3, 'orange': 7, 'kiwi': 10}\n",
    "inverted_dict={}\n",
    "for key,value in  my_dict.items():\n",
    "    if value in inverted_dict:\n",
    "      inverted_dict[value].append(key)\n",
    "    else:\n",
    "        inverted_dict[value] = [key]\n",
    "    \n",
    "print(inverted_dict)  "
   ]
  },
  {
   "cell_type": "code",
   "execution_count": null,
   "id": "10a3e8e8-8827-4cda-b804-c35046f24694",
   "metadata": {},
   "outputs": [],
   "source": []
  }
 ],
 "metadata": {
  "kernelspec": {
   "display_name": "Python 3 (ipykernel)",
   "language": "python",
   "name": "python3"
  },
  "language_info": {
   "codemirror_mode": {
    "name": "ipython",
    "version": 3
   },
   "file_extension": ".py",
   "mimetype": "text/x-python",
   "name": "python",
   "nbconvert_exporter": "python",
   "pygments_lexer": "ipython3",
   "version": "3.12.7"
  }
 },
 "nbformat": 4,
 "nbformat_minor": 5
}

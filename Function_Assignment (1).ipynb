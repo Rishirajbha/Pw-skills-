{
 "cells": [
  {
   "cell_type": "markdown",
   "id": "3d14126c-e030-4d7e-8e8d-673a56c5edf5",
   "metadata": {},
   "source": [
    "## Function_Assignment:-"
   ]
  },
  {
   "cell_type": "markdown",
   "id": "0540f3e3-0d56-4c28-a2be-2c058e0438cb",
   "metadata": {},
   "source": [
    "### 1. What is the difference between a function and a method in Python?"
   ]
  },
  {
   "cell_type": "markdown",
   "id": "ebd9bc35-0fa3-41d9-8383-caa82d0ea14d",
   "metadata": {},
   "source": [
    "\n",
    "Function:-\n",
    "A function is a block of reusable code that is defined using the def keyword and can be called independently. \n",
    "It is not tied to any specific object.\n",
    "\n",
    "\n",
    "method:-\n",
    "\n",
    "A method is a function that is associated with an object and typically operates on that object’s data. Methods are defined within a class and are called on an instance of that class."
   ]
  },
  {
   "cell_type": "markdown",
   "id": "f34f1d69-3028-4649-8328-fc50863e0382",
   "metadata": {},
   "source": [
    " ### 2.  Explain the concept of function arguments and parameters in Python?"
   ]
  },
  {
   "cell_type": "markdown",
   "id": "0ba64841-941f-4de9-a8d6-129d92ca8bb3",
   "metadata": {},
   "source": [
    "parameters:\n",
    "Parameters are placeholders defined in a function's signature to specify the inputs the function can accept.\n",
    "\n",
    "#arguments:\n",
    "Arguments are the actual values provided to a function when it is called. These values are assigned to the corresponding parameters.\n"
   ]
  },
  {
   "cell_type": "markdown",
   "id": "1da9b18c-d953-410b-8cf9-8b33a12c525a",
   "metadata": {},
   "source": [
    "### 3.  What are the different ways to define and call a function in Python?"
   ]
  },
  {
   "cell_type": "raw",
   "id": "f37d0885-c682-49bf-8d6e-7e286c71739e",
   "metadata": {},
   "source": [
    "types are:\n",
    "\n",
    "a. Regular Function Definition\n",
    "b. Default Parameters\n",
    "c. Variable-length Arguments using(*args,**kwrgs)\n",
    "d. Lambda Functions (Anonymous Functions)\n",
    "e. Nested Functions\n",
    "f. Generator Functions\n",
    "g. Function with Type Annotations\n",
    "h. Calling Functions"
   ]
  },
  {
   "cell_type": "markdown",
   "id": "2e50d28c-ed15-42db-8785-ddf2dded9668",
   "metadata": {},
   "source": [
    "### 4. What is the purpose of the `return` statement in a Python function?"
   ]
  },
  {
   "cell_type": "code",
   "execution_count": 9,
   "id": "86833395-2671-4b3f-9f22-9695875158c0",
   "metadata": {},
   "outputs": [
    {
     "data": {
      "text/plain": [
       "5"
      ]
     },
     "execution_count": 9,
     "metadata": {},
     "output_type": "execute_result"
    }
   ],
   "source": [
    "# to return the output example\n",
    "def addition (a,b):\n",
    "    return a+b # what output you want to return as output\n",
    "\n",
    "addition(2,3)"
   ]
  },
  {
   "cell_type": "markdown",
   "id": "15ef1c3f-d97e-4533-800d-5cedc93bbeae",
   "metadata": {},
   "source": [
    "### 5. What are iterators in Python and how do they differ from iterables?"
   ]
  },
  {
   "cell_type": "code",
   "execution_count": 3,
   "id": "8ec7dc9d-6247-4d2c-ae3b-8e30bccd397c",
   "metadata": {},
   "outputs": [
    {
     "name": "stdout",
     "output_type": "stream",
     "text": [
      "1\n"
     ]
    }
   ],
   "source": [
    "# An iterable is any Python object capable of returning its elements one at a time. It can be \n",
    "# \"iterated over,\" meaning you can use a loop (like for) to traverse its elements.\n",
    "\n",
    "my_list = [1, 2, 3]\n",
    "iterator = iter(my_list)  # Get an iterator from the iterable\n",
    "\n",
    "print(next(iterator))"
   ]
  },
  {
   "cell_type": "markdown",
   "id": "e2389d7b-b70a-4986-a0b3-1fb200dbb546",
   "metadata": {},
   "source": [
    " ### 6.  Explain the concept of generators in Python and how they are defined?"
   ]
  },
  {
   "cell_type": "code",
   "execution_count": 5,
   "id": "a0d15e74-c622-4ffe-a318-e00c1ac2b48a",
   "metadata": {},
   "outputs": [
    {
     "name": "stdout",
     "output_type": "stream",
     "text": [
      "0\n",
      "1\n",
      "1\n",
      "2\n",
      "3\n",
      "5\n"
     ]
    }
   ],
   "source": [
    "# Generators produce values one at a time, avoiding the need to store large data structures in memory.\n",
    "\n",
    "def fibonacci(n):\n",
    "    a, b = 0, 1\n",
    "    for _ in range(n):\n",
    "        yield a\n",
    "        a, b = b, a + b\n",
    "\n",
    "fib = fibonacci(6)\n",
    "for i in fib:\n",
    "    print(i)"
   ]
  },
  {
   "cell_type": "markdown",
   "id": "67a6f41a-f148-4ebb-ab75-5e7a97904c05",
   "metadata": {},
   "source": [
    "### 7. What are the advantages of using generators over regular functions?"
   ]
  },
  {
   "cell_type": "markdown",
   "id": "656be0e7-706b-4d16-8c22-2b2b7e434768",
   "metadata": {},
   "source": [
    "When to Use Generators\n",
    "1. When you are working with large data sets and want to avoid loading everything into memory.\n",
    "2. When you want to create a custom iterator.\n",
    "3. When you need lazy evaluation for better performance."
   ]
  },
  {
   "cell_type": "markdown",
   "id": "ce93c9ca-9057-4433-97a3-dc21489762bb",
   "metadata": {},
   "source": [
    "### 8.  What is a lambda function in Python and when is it typically used?"
   ]
  },
  {
   "cell_type": "code",
   "execution_count": 8,
   "id": "a5a71c0e-00a6-4914-b7c3-4f539027ad47",
   "metadata": {},
   "outputs": [
    {
     "name": "stdout",
     "output_type": "stream",
     "text": [
      "12\n"
     ]
    }
   ],
   "source": [
    "# A lambda function is a small, anonymous function defined using the lambda keyword. \n",
    "# These functions are often referred to as \"inline functions\" because they are written in a single line.\n",
    "\n",
    "multiply = lambda x, y: x * y\n",
    "print(multiply(3, 4)) "
   ]
  },
  {
   "cell_type": "markdown",
   "id": "690e1a1c-2f0a-4404-aeaa-6adf6aa22b48",
   "metadata": {},
   "source": [
    "### 9.  Explain the purpose and usage of the `map()` function in Python?"
   ]
  },
  {
   "cell_type": "code",
   "execution_count": 10,
   "id": "4326b7eb-1a4f-4db1-b8b9-0fdd3e032840",
   "metadata": {},
   "outputs": [
    {
     "data": {
      "text/plain": [
       "[1, 4, 9]"
      ]
     },
     "execution_count": 10,
     "metadata": {},
     "output_type": "execute_result"
    }
   ],
   "source": [
    "# The map() function in Python is a built-in function used to apply a given function to each item in an iterable (like a list, tuple, etc.)\n",
    "#and return an iterator containing the transformed items.\n",
    "\n",
    "l=[1,2,3]\n",
    "list(map (lambda x:x**2,l))"
   ]
  },
  {
   "cell_type": "markdown",
   "id": "75220072-2e29-4d92-9af0-28f1aae5caa6",
   "metadata": {},
   "source": [
    "### 10. . What is the difference between `map()`, `reduce()`, and `filter()` functions in Python?"
   ]
  },
  {
   "cell_type": "markdown",
   "id": "c0e869e8-ba52-4317-9530-1bc007fcb875",
   "metadata": {},
   "source": [
    "Map \n",
    "1. Applies a given function to each element in an iterable and \n",
    "2. returns a new iterable (map object) with the transformed elements.\n",
    "\n",
    "Reduce\n",
    "\n",
    "1. Applies a rolling computation (reduction) to the elements of an iterable, \n",
    "2. combining them into a single value.\n",
    "\n",
    "Filter\n",
    "1. Filters elements from an iterable based on whether they satisfy a given condition (function returning True or False)."
   ]
  },
  {
   "cell_type": "markdown",
   "id": "f0e7c642-7730-4792-8225-c0d3174bca58",
   "metadata": {},
   "source": [
    "### 11.  Using pen & Paper write the internal mechanism for sum operation using  reduce function on this given\n",
    "### list:[47,11,42,13]?  \n",
    "#### Note:  (Attach paper image for this answer) in doc or colab notebook."
   ]
  },
  {
   "cell_type": "code",
   "execution_count": null,
   "id": "31e537fc-1a5d-4936-90b6-0954c6a3c892",
   "metadata": {},
   "outputs": [],
   "source": [
    "# Initial Step (First Two Elements):\n",
    "\n",
    "# The function takes the first two elements of the list:\n",
    "# x=47,y=11\n",
    "# Computes their sum:\n",
    "# 47+11=58\n",
    "# Second Step (Next Element):\n",
    "\n",
    "# x=58,y=42\n",
    "# Computes their sum:\n",
    "# 58+42=100\n",
    "# Third Step (Final Element):\n",
    "# The result from the second step (100) is now the first argument, and the final element of the list is the second argument:\n",
    "# x=100,y=13\n",
    "# Computes their sum:\n",
    "# 100+13=113\n",
    "\n",
    "#end"
   ]
  },
  {
   "cell_type": "markdown",
   "id": "97cb2a4c-230f-4bd3-be82-7cfb41a76e22",
   "metadata": {},
   "source": [
    "### 12. Write a Python function that takes a list of numbers as input and returns the sum of all even numbers in the list."
   ]
  },
  {
   "cell_type": "code",
   "execution_count": 109,
   "id": "49219f28-2b8d-4bed-b0f1-a2fa4ce26982",
   "metadata": {},
   "outputs": [
    {
     "name": "stdin",
     "output_type": "stream",
     "text": [
      "Enter numbers separated by spaces:  2,4,6,8,9\n"
     ]
    },
    {
     "name": "stdout",
     "output_type": "stream",
     "text": [
      "Sum of even numbers: 20\n"
     ]
    }
   ],
   "source": [
    "from functools import reduce\n",
    "l = list(map(int, input(\"Enter numbers separated by spaces: \").split(',')))\n",
    "even_numbers = [i for i in l if i % 2 == 0]\n",
    "\n",
    "if even_numbers:\n",
    "    result = reduce(lambda a, b: a + b, even_numbers)\n",
    "    print(\"Sum of even numbers:\", result)\n",
    "else:\n",
    "    print(\"No even numbers found.\")"
   ]
  },
  {
   "cell_type": "markdown",
   "id": "8163a09c-e8e6-436d-9caa-b2e880c2b7fb",
   "metadata": {},
   "source": [
    "### 13.  Create a Python function that accepts a string and returns the reverse of that string?"
   ]
  },
  {
   "cell_type": "code",
   "execution_count": 111,
   "id": "c895f3e5-fb55-4c0c-8ebd-6a7847fbdeaa",
   "metadata": {},
   "outputs": [
    {
     "data": {
      "text/plain": [
       "'gnirts'"
      ]
     },
     "execution_count": 111,
     "metadata": {},
     "output_type": "execute_result"
    }
   ],
   "source": [
    "str= \"string\"\n",
    "str[::-1]"
   ]
  },
  {
   "cell_type": "markdown",
   "id": "86badc03-344c-4dc1-95af-156587498c30",
   "metadata": {},
   "source": [
    "### 14.  Implement a Python function that takes a list of integers and returns a new list containing the squares of each number?"
   ]
  },
  {
   "cell_type": "code",
   "execution_count": 117,
   "id": "b2509b20-cb9c-414b-ac41-279c9af136b7",
   "metadata": {},
   "outputs": [
    {
     "data": {
      "text/plain": [
       "[1, 4, 9, 16, 25, 36]"
      ]
     },
     "execution_count": 117,
     "metadata": {},
     "output_type": "execute_result"
    }
   ],
   "source": [
    "l= [1,2,3,4,5,6]\n",
    "new_l= list(map(lambda x:x**2,l))\n",
    "new_l"
   ]
  },
  {
   "cell_type": "markdown",
   "id": "4951b105-0d9e-4348-beb7-2a1d34de80ad",
   "metadata": {},
   "source": [
    "### 15.  Write a Python function that checks if a given number is prime or not from 1 to 200?"
   ]
  },
  {
   "cell_type": "code",
   "execution_count": 136,
   "id": "d4f3bcdd-de4d-4930-97cd-10cea894fe70",
   "metadata": {},
   "outputs": [
    {
     "name": "stdin",
     "output_type": "stream",
     "text": [
      " 3\n"
     ]
    },
    {
     "name": "stdout",
     "output_type": "stream",
     "text": [
      "Provide number is prime : 3\n"
     ]
    }
   ],
   "source": [
    "check_prime_num= int(input())\n",
    "if check_prime_num %2!=0:\n",
    "    print(f\"Provide number is prime : {check_prime_num}\")\n",
    "else:\n",
    "    print(f\"Number is not prime\")"
   ]
  },
  {
   "cell_type": "markdown",
   "id": "5218cfb9-f2ba-41b5-937f-4e3080377ed9",
   "metadata": {},
   "source": [
    "### 16. Create an iterator class in Python that generates the Fibonacci sequence up to a specified number of terms"
   ]
  },
  {
   "cell_type": "code",
   "execution_count": 13,
   "id": "1961e664-db94-4bfa-bc3f-45e1ec650a53",
   "metadata": {},
   "outputs": [
    {
     "name": "stdout",
     "output_type": "stream",
     "text": [
      "0\n",
      "1\n",
      "1\n",
      "2\n",
      "3\n",
      "5\n",
      "8\n",
      "13\n",
      "21\n",
      "34\n"
     ]
    }
   ],
   "source": [
    "class FibonacciIterator:\n",
    "    def __init__(self, num_terms):\n",
    "        \"\"\"\n",
    "        Initialize the iterator with the specified number of terms.\n",
    "        \"\"\"\n",
    "        self.num_terms = num_terms\n",
    "        self.current_term = 0\n",
    "        self.a, self.b = 0, 1\n",
    "\n",
    "    def __iter__(self):\n",
    "        \"\"\"\n",
    "        Return the iterator object itself.\n",
    "        \"\"\"\n",
    "        return self\n",
    "\n",
    "    def __next__(self):\n",
    "        \"\"\"\n",
    "        Generate the next Fibonacci number in the sequence.\n",
    "        \"\"\"\n",
    "        if self.current_term >= self.num_terms:\n",
    "            raise StopIteration  # End of the iteration\n",
    "        if self.current_term == 0:\n",
    "            self.current_term += 1\n",
    "            return self.a\n",
    "        elif self.current_term == 1:\n",
    "            self.current_term += 1\n",
    "            return self.b\n",
    "        else:\n",
    "            next_value = self.a + self.b\n",
    "            self.a, self.b = self.b, next_value\n",
    "            self.current_term += 1\n",
    "            return next_value\n",
    "\n",
    "\n",
    "# Example usage\n",
    "if __name__ == \"__main__\":\n",
    "    num_terms = 10\n",
    "    fib_iter = FibonacciIterator(num_terms)\n",
    "    for num in fib_iter:\n",
    "        print(num)\n"
   ]
  },
  {
   "cell_type": "markdown",
   "id": "eabadfa6-531d-4408-acaf-3d9afb4b0f88",
   "metadata": {},
   "source": [
    "### 17.  Write a generator function in Python that yields the powers of 2 up to a given exponent"
   ]
  },
  {
   "cell_type": "code",
   "execution_count": 140,
   "id": "9deee87c-5e63-40a7-bcad-7cc4b6184095",
   "metadata": {},
   "outputs": [
    {
     "name": "stdin",
     "output_type": "stream",
     "text": [
      "Enter the maximum exponent:  6\n"
     ]
    },
    {
     "name": "stdout",
     "output_type": "stream",
     "text": [
      "Powers of 2:\n",
      "1\n",
      "2\n",
      "4\n",
      "8\n",
      "16\n",
      "32\n",
      "64\n"
     ]
    }
   ],
   "source": [
    "def powers_of_two(max_exponent):\n",
    "    \"\"\"\n",
    "    Generator function to yield powers of 2 up to the given exponent.\n",
    "    \n",
    "    Args:\n",
    "    max_exponent (int): The maximum exponent for 2^x.\n",
    "    \n",
    "    Yields:\n",
    "    int: The value of 2^x for each x from 0 to max_exponent (inclusive).\n",
    "    \"\"\"\n",
    "    for exponent in range(max_exponent + 1):\n",
    "        yield 2 ** exponent\n",
    "\n",
    "# Example usage:\n",
    "max_exp = int(input(\"Enter the maximum exponent: \"))\n",
    "print(\"Powers of 2:\")\n",
    "for value in powers_of_two(max_exp):\n",
    "    print(value)\n",
    "\n"
   ]
  },
  {
   "cell_type": "markdown",
   "id": "52c82dd9-3b30-439b-9881-28546b80840b",
   "metadata": {},
   "source": [
    "### 18.  Implement a generator function that reads a file line by line and yields each line as a string"
   ]
  },
  {
   "cell_type": "code",
   "execution_count": 148,
   "id": "1b63e43e-2fc6-4b38-8baf-78c02d4adcaf",
   "metadata": {},
   "outputs": [
    {
     "name": "stdin",
     "output_type": "stream",
     "text": [
      "Enter the path to the file:  DCE\n"
     ]
    },
    {
     "name": "stdout",
     "output_type": "stream",
     "text": [
      "File content line by line:\n",
      "Error: The file at 'DCE' was not found.\n"
     ]
    }
   ],
   "source": [
    "def read_file_line_by_line(file_path):\n",
    "    try:\n",
    "        with open(file_path, 'r') as file:\n",
    "            for line in file:\n",
    "                yield line.strip() \n",
    "    except FileNotFoundError:\n",
    "        print(f\"Error: The file at '{file_path}' was not found.\")\n",
    "    except Exception as e:\n",
    "        print(f\"An error occurred: {e}\")\n",
    "\n",
    "# Example usage:\n",
    "file_path = input(\"Enter the path to the file: \")\n",
    "\n",
    "print(\"File content line by line:\")\n",
    "for line in read_file_line_by_line(file_path):\n",
    "    print(line)\n"
   ]
  },
  {
   "cell_type": "markdown",
   "id": "92475bd6-ec86-4566-987e-80735cc1c245",
   "metadata": {},
   "source": [
    "### 19.  Use a lambda function in Python to sort a list of tuples based on the second element of each tuple.\n",
    "\n"
   ]
  },
  {
   "cell_type": "code",
   "execution_count": 156,
   "id": "faf4f925-6982-4f37-adbd-3ccb2bd151ee",
   "metadata": {},
   "outputs": [
    {
     "data": {
      "text/plain": [
       "[(5, 0, -1), (4, 1, 2), (2, 2, 1), (1, 3, 5)]"
      ]
     },
     "execution_count": 156,
     "metadata": {},
     "output_type": "execute_result"
    }
   ],
   "source": [
    "l=[(1,3,5), (4, 1,2), (2,2,1), (5,0,-1)]\n",
    "sorted_by_2nd_ele= sorted(l,key= lambda x:x[1])\n",
    "sorted_by_2nd_ele"
   ]
  },
  {
   "cell_type": "markdown",
   "id": "f02a111b-3276-4dad-95b8-6d3634a0af53",
   "metadata": {},
   "source": [
    "### 20. Write a Python program that uses `map()` to convert a list of temperatures from Celsius to Fahrenheit?"
   ]
  },
  {
   "cell_type": "code",
   "execution_count": 160,
   "id": "ca955be6-13b5-42d5-ae95-ed0c4de22a31",
   "metadata": {},
   "outputs": [
    {
     "data": {
      "text/plain": [
       "[98.6, 75.2, 89.6, 69.8]"
      ]
     },
     "execution_count": 160,
     "metadata": {},
     "output_type": "execute_result"
    }
   ],
   "source": [
    "def celsius_to_fahrenheit(celsius):\n",
    "    return celsius * 9 / 5 + 32\n",
    "\n",
    "temp_in_c=[37,24,32,21]\n",
    "temp_in_F = list(map(celsius_to_fahrenheit, temp_in_c))\n",
    "\n",
    "temp_in_F"
   ]
  },
  {
   "cell_type": "markdown",
   "id": "4dc09a93-8e64-4320-8360-3bce3a668d82",
   "metadata": {},
   "source": [
    "### 21.  Create a Python program that uses `filter()` to remove all the vowels from a given string?"
   ]
  },
  {
   "cell_type": "code",
   "execution_count": 170,
   "id": "f4324152-3c4d-4ee2-86c6-ec5c6cf93e2a",
   "metadata": {},
   "outputs": [
    {
     "data": {
      "text/plain": [
       "['d', 's', 'k', 'l']"
      ]
     },
     "execution_count": 170,
     "metadata": {},
     "output_type": "execute_result"
    }
   ],
   "source": [
    "l= ['a','e','i','d','s','k','l']\n",
    "list(filter(lambda x: x not in ['a', 'e', 'i', 'o', 'u'],l))"
   ]
  },
  {
   "cell_type": "markdown",
   "id": "4e407330-9d5f-489f-8e09-6ae0cc2ca417",
   "metadata": {},
   "source": [
    "### 22.  Imagine an accounting routine used in a book shop. It works on a list with sublists, which look like this:\n",
    "\n",
    "#### Write a Python program, which returns a list with 2-tuples. Each tuple consists of the order number and the\n",
    "#### product of the price per item and the quantity. The product should be increased by 10,- € if the value of the\n",
    "#### order is smaller than 100.00 €.\n",
    "\n",
    "#### Write a Python program using lambda and map."
   ]
  },
  {
   "cell_type": "code",
   "execution_count": 97,
   "id": "85be393c-c789-4b5f-9ab5-8ecc83d07cc7",
   "metadata": {},
   "outputs": [
    {
     "data": {
      "text/plain": [
       "[(34587, 4, 163.8),\n",
       " (98762, 5, 284.0),\n",
       " (77226, 3, 108.85000000000001),\n",
       " (88112, 3, 84.97)]"
      ]
     },
     "execution_count": 97,
     "metadata": {},
     "output_type": "execute_result"
    }
   ],
   "source": [
    "book_rec = [\n",
    "    {\"order number\": [34587, 98762, 77226, 88112]},\n",
    "    {\"Book title & author\": [\"learning python, mark\", \"python programming, mark\", \"head first python, paul\", \"einfuhrung in python, bernd\"]},\n",
    "    {\"quantity\": [4, 5, 3, 3]},\n",
    "    {\"price per item\": [40.95, 56.80, 32.95, 24.99]}\n",
    "]\n",
    "\n",
    "order_numbers = book_rec[0][\"order number\"]\n",
    "quantities = book_rec[2][\"quantity\"]\n",
    "prices = book_rec[3][\"price per item\"]\n",
    "\n",
    "result = list(map(lambda order, qty, price: (order,qty, (qty*price)+10 if (qty*price)<100 else qty*price),order_numbers,quantities,prices))\n",
    "\n",
    "result"
   ]
  },
  {
   "cell_type": "code",
   "execution_count": null,
   "id": "ea821c27-0202-45a4-a340-8fedaea2967e",
   "metadata": {},
   "outputs": [],
   "source": []
  },
  {
   "cell_type": "code",
   "execution_count": null,
   "id": "40510d4e-fee2-41ec-b82c-d40e5ed4bd12",
   "metadata": {},
   "outputs": [],
   "source": []
  },
  {
   "cell_type": "code",
   "execution_count": null,
   "id": "d8a79abe-6041-4ffa-9a88-c8b634a572b7",
   "metadata": {},
   "outputs": [],
   "source": []
  }
 ],
 "metadata": {
  "kernelspec": {
   "display_name": "Python 3 (ipykernel)",
   "language": "python",
   "name": "python3"
  },
  "language_info": {
   "codemirror_mode": {
    "name": "ipython",
    "version": 3
   },
   "file_extension": ".py",
   "mimetype": "text/x-python",
   "name": "python",
   "nbconvert_exporter": "python",
   "pygments_lexer": "ipython3",
   "version": "3.12.7"
  }
 },
 "nbformat": 4,
 "nbformat_minor": 5
}
